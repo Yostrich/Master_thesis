{
 "cells": [
  {
   "cell_type": "code",
   "execution_count": 2,
   "id": "1f7c3e02",
   "metadata": {
    "tags": [
     "snakemake-job-properties"
    ]
   },
   "outputs": [],
   "source": [
    "\n",
    "######## snakemake preamble start (automatically inserted, do not edit) ########\n",
    "import sys; sys.path.extend(['/home/yostrich/anaconda3/envs/snakemake/lib/python3.10/site-packages', '/mnt/c/Users/danis/Desktop/Thesis/pipeline_snakemake/notebooks']); import pickle; snakemake = pickle.loads(b'\\x80\\x04\\x95\\x02\\x06\\x00\\x00\\x00\\x00\\x00\\x00\\x8c\\x10snakemake.script\\x94\\x8c\\tSnakemake\\x94\\x93\\x94)\\x81\\x94}\\x94(\\x8c\\x05input\\x94\\x8c\\x0csnakemake.io\\x94\\x8c\\nInputFiles\\x94\\x93\\x94)\\x81\\x94\\x8c0TSS_LUZ7_t5/TSS_seq_LUZ7_enriched_t5.plus.fa.out\\x94a}\\x94(\\x8c\\x06_names\\x94}\\x94\\x8c\\x12_allowed_overrides\\x94]\\x94(\\x8c\\x05index\\x94\\x8c\\x04sort\\x94eh\\x10\\x8c\\tfunctools\\x94\\x8c\\x07partial\\x94\\x93\\x94h\\x06\\x8c\\x19Namedlist._used_attribute\\x94\\x93\\x94\\x85\\x94R\\x94(h\\x16)}\\x94\\x8c\\x05_name\\x94h\\x10sNt\\x94bh\\x11h\\x14h\\x16\\x85\\x94R\\x94(h\\x16)}\\x94h\\x1ah\\x11sNt\\x94bub\\x8c\\x06output\\x94h\\x06\\x8c\\x0bOutputFiles\\x94\\x93\\x94)\\x81\\x94\\x8c\\x10LUZ7_t5.plus.txt\\x94a}\\x94(h\\x0c}\\x94h\\x0e]\\x94(h\\x10h\\x11eh\\x10h\\x14h\\x16\\x85\\x94R\\x94(h\\x16)}\\x94h\\x1ah\\x10sNt\\x94bh\\x11h\\x14h\\x16\\x85\\x94R\\x94(h\\x16)}\\x94h\\x1ah\\x11sNt\\x94bub\\x8c\\x06params\\x94h\\x06\\x8c\\x06Params\\x94\\x93\\x94)\\x81\\x94}\\x94(h\\x0c}\\x94h\\x0e]\\x94(h\\x10h\\x11eh\\x10h\\x14h\\x16\\x85\\x94R\\x94(h\\x16)}\\x94h\\x1ah\\x10sNt\\x94bh\\x11h\\x14h\\x16\\x85\\x94R\\x94(h\\x16)}\\x94h\\x1ah\\x11sNt\\x94bub\\x8c\\twildcards\\x94h\\x06\\x8c\\tWildcards\\x94\\x93\\x94)\\x81\\x94(\\x8c\\x04LUZ7\\x94\\x8c\\x02t5\\x94\\x8c\\x04plus\\x94e}\\x94(h\\x0c}\\x94(\\x8c\\x05phage\\x94K\\x00N\\x86\\x94\\x8c\\x05ident\\x94K\\x01N\\x86\\x94\\x8c\\x04sign\\x94K\\x02N\\x86\\x94uh\\x0e]\\x94(h\\x10h\\x11eh\\x10h\\x14h\\x16\\x85\\x94R\\x94(h\\x16)}\\x94h\\x1ah\\x10sNt\\x94bh\\x11h\\x14h\\x16\\x85\\x94R\\x94(h\\x16)}\\x94h\\x1ah\\x11sNt\\x94b\\x8c\\x05phage\\x94hC\\x8c\\x05ident\\x94hD\\x8c\\x04sign\\x94hEub\\x8c\\x07threads\\x94K\\x01\\x8c\\tresources\\x94h\\x06\\x8c\\tResources\\x94\\x93\\x94)\\x81\\x94(K\\x01K\\x01\\x8c\\x04/tmp\\x94e}\\x94(h\\x0c}\\x94(\\x8c\\x06_cores\\x94K\\x00N\\x86\\x94\\x8c\\x06_nodes\\x94K\\x01N\\x86\\x94\\x8c\\x06tmpdir\\x94K\\x02N\\x86\\x94uh\\x0e]\\x94(h\\x10h\\x11eh\\x10h\\x14h\\x16\\x85\\x94R\\x94(h\\x16)}\\x94h\\x1ah\\x10sNt\\x94bh\\x11h\\x14h\\x16\\x85\\x94R\\x94(h\\x16)}\\x94h\\x1ah\\x11sNt\\x94bhbK\\x01hdK\\x01hfh_ub\\x8c\\x03log\\x94h\\x06\\x8c\\x03Log\\x94\\x93\\x94)\\x81\\x94}\\x94(h\\x0c}\\x94h\\x0e]\\x94(h\\x10h\\x11eh\\x10h\\x14h\\x16\\x85\\x94R\\x94(h\\x16)}\\x94h\\x1ah\\x10sNt\\x94bh\\x11h\\x14h\\x16\\x85\\x94R\\x94(h\\x16)}\\x94h\\x1ah\\x11sNt\\x94bub\\x8c\\x06config\\x94}\\x94(\\x8c\\nPhage name\\x94\\x8c\\x04LUZ7\\x94\\x8c\\nfasta file\\x94\\x8c\\nLUZ7.fasta\\x94\\x8c\\x0eenriched fastq\\x94\\x8c\\x1ctestData/LUZ7_enriched.fastq\\x94\\x8c\\rcontrol fastq\\x94\\x8c\\x1btestData/LUZ7_control.fastq\\x94\\x8c\\x02ID\\x94\\x8c\\x02t5\\x94\\x8c\\rtermseq alpha\\x94G?\\xa9\\x99\\x99\\x99\\x99\\x99\\x9a\\x8c\\rcluster width\\x94}\\x94(\\x8c\\x03TSS\\x94K\\n\\x8c\\x03TTS\\x94K\\x14u\\x8c\\x10minimum coverage\\x94}\\x94(\\x8c\\x03TSS\\x94K\\x05\\x8c\\x03TTS\\x94K\\x1eu\\x8c\\x14peak alignment error\\x94K\\x02\\x8c\\rTSS Threshold\\x94K\\x01\\x8c\\rTTS threshold\\x94G?\\xc9\\x99\\x99\\x99\\x99\\x99\\x9a\\x8c\\x17TSS sequence extraction\\x94}\\x94(\\x8c\\x08upstream\\x94K2\\x8c\\ndownstream\\x94K\\nu\\x8c\\x17TTS sequence extraction\\x94}\\x94(\\x8c\\x08upstream\\x94Kd\\x8c\\ndownstream\\x94K\\x14uu\\x8c\\x04rule\\x94\\x8c\\x0ecreateNotebook\\x94\\x8c\\x0fbench_iteration\\x94N\\x8c\\tscriptdir\\x94\\x8c>/mnt/c/Users/danis/Desktop/Thesis/pipeline_snakemake/notebooks\\x94ub.'); from snakemake.logging import logger; logger.printshellcmds = False; import os; os.chdir(r'/mnt/c/Users/danis/Desktop/Thesis/pipeline_snakemake');\n",
    "######## snakemake preamble end #########\n"
   ]
  },
  {
   "cell_type": "code",
   "execution_count": 3,
   "id": "0cd7a3ea",
   "metadata": {},
   "outputs": [],
   "source": [
    "# dependencies\n",
    "from dnacurve import CurvedDNA\n",
    "from Bio import SeqIO\n",
    "import pandas as pd\n",
    "import matplotlib.pyplot as plt\n",
    "from operator import truediv\n",
    "from scipy import signal"
   ]
  },
  {
   "cell_type": "code",
   "execution_count": 120,
   "id": "e52474bd",
   "metadata": {},
   "outputs": [],
   "source": [
    "def seqTodiValues(seq, property_name):\n",
    "    diNucTable = pd.read_csv('workflow/tables/dinucleotideTable.csv')\n",
    "    value_list = []\n",
    "    for i in range(0,len(seq)-1):\n",
    "        j = i+2\n",
    "        value_list.append(diNucTable.query(f\"sequence == '{seq[i:j]}'\")[property_name].item())\n",
    "    return value_list + [0]\n",
    "def seqTotriValues(seq, property_name):\n",
    "    triNucTable = pd.read_csv('workflow/tables/trinucleotideTable.csv')\n",
    "    value_list = []\n",
    "    for i in range(0,len(seq)-2):\n",
    "        j = i+3\n",
    "        print( f\"{seq[i:j]}\")\n",
    "        value_list.append(triNucTable.query(f\"sequence == '{seq[i:j]}'\")[property_name].item())\n",
    "    return value_list + [0,0]\n",
    "def getCurvature(seq):\n",
    "    return CurvedDNA(seq, 'nucleosome').curvature[0,:].tolist()\n",
    "def savePropertiesToCsv(propertyfunc, fastaFile, window,outCSV,bp_upstream,bp_downstream):\n",
    "    fasta_sequences = SeqIO.parse(open(fastaFile),'fasta')\n",
    "    df = pd.DataFrame(index=range(bp_upstream,bp_downstream,1))\n",
    "    for fasta in fasta_sequences:\n",
    "        nameSeq, sequence = fasta.id, str(fasta.seq)\n",
    "        df[str(nameSeq)] = propertyfunc(sequence)\n",
    "        df[str(nameSeq)] = df[str(nameSeq)].rolling(window).mean()\n",
    "    df[\"mean\"] = df.mean(axis=1)\n",
    "    df.to_csv(outCSV, index=True)"
   ]
  },
  {
   "cell_type": "code",
   "execution_count": null,
   "id": "84318999",
   "metadata": {},
   "outputs": [],
   "source": [
    "bp_upstream = -1*snakemake.config[\"TSS sequence extraction\"][\"upstream\"]\n",
    "bp_downstream = snakemake.config[\"TSS sequence extraction\"][\"downstream\"]"
   ]
  },
  {
   "cell_type": "code",
   "execution_count": null,
   "id": "99b6f637",
   "metadata": {},
   "outputs": [],
   "source": [
    "\n",
    "partial_stability = lambda y: seqTodiValues(y, \"stability\")\n",
    "partial_bendability = lambda y: seqTotriValues(y, \"DNAse1_bendability\")\n",
    "savePropertiesToCsv(getCurvature,snakemake.input[0], 20, snakemake.output[0],bp_upstream,bp_downstream)\n",
    "savePropertiesToCsv(partial_stability,snakemake.input[0], 20, snakemake.output[1],bp_upstream,bp_downstream)\n",
    "savePropertiesToCsv(partial_bendability,snakemake.input[0], 20, snakemake.output[2],bp_upstream,bp_downstream)\n",
    "savePropertiesToCsv(getCurvature,snakemake.input[1], 20, snakemake.output[3],bp_upstream,bp_downstream)\n",
    "savePropertiesToCsv(partial_stability,snakemake.input[1], 20, snakemake.output[4],bp_upstream,bp_downstream)\n",
    "savePropertiesToCsv(partial_bendability,snakemake.input[1], 20, snakemake.output[5],bp_upstream,bp_downstream)"
   ]
  },
  {
   "cell_type": "code",
   "execution_count": 4,
   "id": "39d7f9fb",
   "metadata": {},
   "outputs": [],
   "source": []
  },
  {
   "cell_type": "code",
   "execution_count": 91,
   "id": "16fe6b48",
   "metadata": {},
   "outputs": [
    {
     "ename": "ValueError",
     "evalue": "Length of values (60) does not match length of index (40)",
     "output_type": "error",
     "traceback": [
      "\u001b[0;31m---------------------------------------------------------------------------\u001b[0m",
      "\u001b[0;31mValueError\u001b[0m                                Traceback (most recent call last)",
      "Cell \u001b[0;32mIn [91], line 6\u001b[0m\n\u001b[1;32m      4\u001b[0m     nameSeq, sequence \u001b[39m=\u001b[39m fasta\u001b[39m.\u001b[39mid, \u001b[39mstr\u001b[39m(fasta\u001b[39m.\u001b[39mseq)\n\u001b[1;32m      5\u001b[0m     result \u001b[39m=\u001b[39m CurvedDNA(sequence, \u001b[39m'\u001b[39m\u001b[39mtrifonov\u001b[39m\u001b[39m'\u001b[39m, name\u001b[39m=\u001b[39mnameSeq)\n\u001b[0;32m----> 6\u001b[0m     df[\u001b[39mstr\u001b[39;49m(result\u001b[39m.\u001b[39;49mname)] \u001b[39m=\u001b[39m result\u001b[39m.\u001b[39mcurvature[\u001b[39m0\u001b[39m,\u001b[39m10\u001b[39m:\u001b[39m-\u001b[39m\u001b[39m10\u001b[39m]\n\u001b[1;32m      7\u001b[0m \u001b[39mif\u001b[39;00m \u001b[39mnot\u001b[39;00m(df\u001b[39m.\u001b[39mempty):\n\u001b[1;32m      8\u001b[0m     df\u001b[39m.\u001b[39mplot(use_index\u001b[39m=\u001b[39m\u001b[39mTrue\u001b[39;00m)\u001b[39m.\u001b[39minvert_xaxis()\n",
      "File \u001b[0;32m~/anaconda3/envs/snakemake/lib/python3.10/site-packages/pandas/core/frame.py:3978\u001b[0m, in \u001b[0;36mDataFrame.__setitem__\u001b[0;34m(self, key, value)\u001b[0m\n\u001b[1;32m   3975\u001b[0m     \u001b[39mself\u001b[39m\u001b[39m.\u001b[39m_setitem_array([key], value)\n\u001b[1;32m   3976\u001b[0m \u001b[39melse\u001b[39;00m:\n\u001b[1;32m   3977\u001b[0m     \u001b[39m# set column\u001b[39;00m\n\u001b[0;32m-> 3978\u001b[0m     \u001b[39mself\u001b[39;49m\u001b[39m.\u001b[39;49m_set_item(key, value)\n",
      "File \u001b[0;32m~/anaconda3/envs/snakemake/lib/python3.10/site-packages/pandas/core/frame.py:4172\u001b[0m, in \u001b[0;36mDataFrame._set_item\u001b[0;34m(self, key, value)\u001b[0m\n\u001b[1;32m   4162\u001b[0m \u001b[39mdef\u001b[39;00m \u001b[39m_set_item\u001b[39m(\u001b[39mself\u001b[39m, key, value) \u001b[39m-\u001b[39m\u001b[39m>\u001b[39m \u001b[39mNone\u001b[39;00m:\n\u001b[1;32m   4163\u001b[0m     \u001b[39m\"\"\"\u001b[39;00m\n\u001b[1;32m   4164\u001b[0m \u001b[39m    Add series to DataFrame in specified column.\u001b[39;00m\n\u001b[1;32m   4165\u001b[0m \n\u001b[0;32m   (...)\u001b[0m\n\u001b[1;32m   4170\u001b[0m \u001b[39m    ensure homogeneity.\u001b[39;00m\n\u001b[1;32m   4171\u001b[0m \u001b[39m    \"\"\"\u001b[39;00m\n\u001b[0;32m-> 4172\u001b[0m     value \u001b[39m=\u001b[39m \u001b[39mself\u001b[39;49m\u001b[39m.\u001b[39;49m_sanitize_column(value)\n\u001b[1;32m   4174\u001b[0m     \u001b[39mif\u001b[39;00m (\n\u001b[1;32m   4175\u001b[0m         key \u001b[39min\u001b[39;00m \u001b[39mself\u001b[39m\u001b[39m.\u001b[39mcolumns\n\u001b[1;32m   4176\u001b[0m         \u001b[39mand\u001b[39;00m value\u001b[39m.\u001b[39mndim \u001b[39m==\u001b[39m \u001b[39m1\u001b[39m\n\u001b[1;32m   4177\u001b[0m         \u001b[39mand\u001b[39;00m \u001b[39mnot\u001b[39;00m is_extension_array_dtype(value)\n\u001b[1;32m   4178\u001b[0m     ):\n\u001b[1;32m   4179\u001b[0m         \u001b[39m# broadcast across multiple columns if necessary\u001b[39;00m\n\u001b[1;32m   4180\u001b[0m         \u001b[39mif\u001b[39;00m \u001b[39mnot\u001b[39;00m \u001b[39mself\u001b[39m\u001b[39m.\u001b[39mcolumns\u001b[39m.\u001b[39mis_unique \u001b[39mor\u001b[39;00m \u001b[39misinstance\u001b[39m(\u001b[39mself\u001b[39m\u001b[39m.\u001b[39mcolumns, MultiIndex):\n",
      "File \u001b[0;32m~/anaconda3/envs/snakemake/lib/python3.10/site-packages/pandas/core/frame.py:4905\u001b[0m, in \u001b[0;36mDataFrame._sanitize_column\u001b[0;34m(self, value)\u001b[0m\n\u001b[1;32m   4902\u001b[0m     \u001b[39mreturn\u001b[39;00m _reindex_for_setitem(Series(value), \u001b[39mself\u001b[39m\u001b[39m.\u001b[39mindex)\n\u001b[1;32m   4904\u001b[0m \u001b[39mif\u001b[39;00m is_list_like(value):\n\u001b[0;32m-> 4905\u001b[0m     com\u001b[39m.\u001b[39;49mrequire_length_match(value, \u001b[39mself\u001b[39;49m\u001b[39m.\u001b[39;49mindex)\n\u001b[1;32m   4906\u001b[0m \u001b[39mreturn\u001b[39;00m sanitize_array(value, \u001b[39mself\u001b[39m\u001b[39m.\u001b[39mindex, copy\u001b[39m=\u001b[39m\u001b[39mTrue\u001b[39;00m, allow_2d\u001b[39m=\u001b[39m\u001b[39mTrue\u001b[39;00m)\n",
      "File \u001b[0;32m~/anaconda3/envs/snakemake/lib/python3.10/site-packages/pandas/core/common.py:561\u001b[0m, in \u001b[0;36mrequire_length_match\u001b[0;34m(data, index)\u001b[0m\n\u001b[1;32m    557\u001b[0m \u001b[39m\"\"\"\u001b[39;00m\n\u001b[1;32m    558\u001b[0m \u001b[39mCheck the length of data matches the length of the index.\u001b[39;00m\n\u001b[1;32m    559\u001b[0m \u001b[39m\"\"\"\u001b[39;00m\n\u001b[1;32m    560\u001b[0m \u001b[39mif\u001b[39;00m \u001b[39mlen\u001b[39m(data) \u001b[39m!=\u001b[39m \u001b[39mlen\u001b[39m(index):\n\u001b[0;32m--> 561\u001b[0m     \u001b[39mraise\u001b[39;00m \u001b[39mValueError\u001b[39;00m(\n\u001b[1;32m    562\u001b[0m         \u001b[39m\"\u001b[39m\u001b[39mLength of values \u001b[39m\u001b[39m\"\u001b[39m\n\u001b[1;32m    563\u001b[0m         \u001b[39mf\u001b[39m\u001b[39m\"\u001b[39m\u001b[39m(\u001b[39m\u001b[39m{\u001b[39;00m\u001b[39mlen\u001b[39m(data)\u001b[39m}\u001b[39;00m\u001b[39m) \u001b[39m\u001b[39m\"\u001b[39m\n\u001b[1;32m    564\u001b[0m         \u001b[39m\"\u001b[39m\u001b[39mdoes not match length of index \u001b[39m\u001b[39m\"\u001b[39m\n\u001b[1;32m    565\u001b[0m         \u001b[39mf\u001b[39m\u001b[39m\"\u001b[39m\u001b[39m(\u001b[39m\u001b[39m{\u001b[39;00m\u001b[39mlen\u001b[39m(index)\u001b[39m}\u001b[39;00m\u001b[39m)\u001b[39m\u001b[39m\"\u001b[39m\n\u001b[1;32m    566\u001b[0m     )\n",
      "\u001b[0;31mValueError\u001b[0m: Length of values (60) does not match length of index (40)"
     ]
    }
   ],
   "source": [
    "# fasta_sequences = SeqIO.parse(open(snakemake.input[0]),'fasta')\n",
    "# df = pd.DataFrame(index=range(bp_upstream,bp_downstream,1))\n",
    "# for fasta in fasta_sequences:\n",
    "#     nameSeq, sequence = fasta.id, str(fasta.seq)\n",
    "#     result = CurvedDNA(sequence, 'trifonov', name=nameSeq)\n",
    "#     df[str(result.name)] = result.curvature[0,:]\n",
    "#     df[str(result.name)] = df[str(result.name)].rolling(20).mean()\n",
    "# df[\"mean\"] = df.mean(axis=1)\n",
    "# if not(df.empty):\n",
    "#     df.plot(use_index=True)\n",
    "#     plt.legend('')\n",
    "#     plt.savefig(snakemake.output[0])\n",
    "#     df.to_csv(snakemake.output[1], index=True)\n",
    "# else:\n",
    "#     plt.savefig(snakemake.output[0])\n",
    "#     plt.show()\n",
    "#     df.to_csv(snakemake.output[1], index=True)"
   ]
  },
  {
   "cell_type": "code",
   "execution_count": 121,
   "id": "dba6887c",
   "metadata": {},
   "outputs": [
    {
     "name": "stdout",
     "output_type": "stream",
     "text": [
      "[-1.44, -1.44, -1.0, -1.0, -1.28, -1.42, -1.45, -1.3, -1.3, -0.88, -1.0, -1.44, -1.3, -1.3, -1.44, -1.0, -1.0, -1.0, -1.28, -1.42, -2.24, -1.84, -2.24, -1.84, -1.28, -1.0, -1.44, -1.84, -1.28, -1.0, -0.058, -1.45, -1.42, -1.28, -1.28, -1.28, -1.44, -1.84, -1.28, -1.44, -1.42, -1.84, -1.42, -1.28, -1.0, -1.28, -2.24, -1.42, -1.84, -1.42, -1.28, -1.0, -1.44, -1.42, -1.3, -1.3, -1.84, -2.24, -1.42, -1.3, -0.88, -1.44, -1.3, -0.88, -1.28, -2.24, -1.44, -1.28, -1.42, -2.24, -1.3, -1.0, -1.45, -1.42, -1.45, -1.45, -1.42, -1.28, -0.058, 0, 0, 0, 0, 0, 0]\n"
     ]
    },
    {
     "ename": "ValueError",
     "evalue": "Length of values (79) does not match length of index (59)",
     "output_type": "error",
     "traceback": [
      "\u001b[0;31m---------------------------------------------------------------------------\u001b[0m",
      "\u001b[0;31mValueError\u001b[0m                                Traceback (most recent call last)",
      "Cell \u001b[0;32mIn [121], line 6\u001b[0m\n\u001b[1;32m      4\u001b[0m     nameSeq, sequence \u001b[39m=\u001b[39m fasta\u001b[39m.\u001b[39mid, \u001b[39mstr\u001b[39m(fasta\u001b[39m.\u001b[39mseq)\n\u001b[1;32m      5\u001b[0m     result \u001b[39m=\u001b[39m smooth(seqTodiValues(sequence, \u001b[39m'\u001b[39m\u001b[39mstability\u001b[39m\u001b[39m'\u001b[39m), \u001b[39m10\u001b[39m)\n\u001b[0;32m----> 6\u001b[0m     df[\u001b[39mstr\u001b[39;49m(nameSeq)] \u001b[39m=\u001b[39m result\n\u001b[1;32m      7\u001b[0m \u001b[39mif\u001b[39;00m \u001b[39mnot\u001b[39;00m(df\u001b[39m.\u001b[39mempty):\n\u001b[1;32m      8\u001b[0m     df\u001b[39m.\u001b[39mplot(use_index\u001b[39m=\u001b[39m\u001b[39mTrue\u001b[39;00m)\u001b[39m.\u001b[39minvert_xaxis()\n",
      "File \u001b[0;32m~/anaconda3/envs/snakemake/lib/python3.10/site-packages/pandas/core/frame.py:3978\u001b[0m, in \u001b[0;36mDataFrame.__setitem__\u001b[0;34m(self, key, value)\u001b[0m\n\u001b[1;32m   3975\u001b[0m     \u001b[39mself\u001b[39m\u001b[39m.\u001b[39m_setitem_array([key], value)\n\u001b[1;32m   3976\u001b[0m \u001b[39melse\u001b[39;00m:\n\u001b[1;32m   3977\u001b[0m     \u001b[39m# set column\u001b[39;00m\n\u001b[0;32m-> 3978\u001b[0m     \u001b[39mself\u001b[39;49m\u001b[39m.\u001b[39;49m_set_item(key, value)\n",
      "File \u001b[0;32m~/anaconda3/envs/snakemake/lib/python3.10/site-packages/pandas/core/frame.py:4172\u001b[0m, in \u001b[0;36mDataFrame._set_item\u001b[0;34m(self, key, value)\u001b[0m\n\u001b[1;32m   4162\u001b[0m \u001b[39mdef\u001b[39;00m \u001b[39m_set_item\u001b[39m(\u001b[39mself\u001b[39m, key, value) \u001b[39m-\u001b[39m\u001b[39m>\u001b[39m \u001b[39mNone\u001b[39;00m:\n\u001b[1;32m   4163\u001b[0m     \u001b[39m\"\"\"\u001b[39;00m\n\u001b[1;32m   4164\u001b[0m \u001b[39m    Add series to DataFrame in specified column.\u001b[39;00m\n\u001b[1;32m   4165\u001b[0m \n\u001b[0;32m   (...)\u001b[0m\n\u001b[1;32m   4170\u001b[0m \u001b[39m    ensure homogeneity.\u001b[39;00m\n\u001b[1;32m   4171\u001b[0m \u001b[39m    \"\"\"\u001b[39;00m\n\u001b[0;32m-> 4172\u001b[0m     value \u001b[39m=\u001b[39m \u001b[39mself\u001b[39;49m\u001b[39m.\u001b[39;49m_sanitize_column(value)\n\u001b[1;32m   4174\u001b[0m     \u001b[39mif\u001b[39;00m (\n\u001b[1;32m   4175\u001b[0m         key \u001b[39min\u001b[39;00m \u001b[39mself\u001b[39m\u001b[39m.\u001b[39mcolumns\n\u001b[1;32m   4176\u001b[0m         \u001b[39mand\u001b[39;00m value\u001b[39m.\u001b[39mndim \u001b[39m==\u001b[39m \u001b[39m1\u001b[39m\n\u001b[1;32m   4177\u001b[0m         \u001b[39mand\u001b[39;00m \u001b[39mnot\u001b[39;00m is_extension_array_dtype(value)\n\u001b[1;32m   4178\u001b[0m     ):\n\u001b[1;32m   4179\u001b[0m         \u001b[39m# broadcast across multiple columns if necessary\u001b[39;00m\n\u001b[1;32m   4180\u001b[0m         \u001b[39mif\u001b[39;00m \u001b[39mnot\u001b[39;00m \u001b[39mself\u001b[39m\u001b[39m.\u001b[39mcolumns\u001b[39m.\u001b[39mis_unique \u001b[39mor\u001b[39;00m \u001b[39misinstance\u001b[39m(\u001b[39mself\u001b[39m\u001b[39m.\u001b[39mcolumns, MultiIndex):\n",
      "File \u001b[0;32m~/anaconda3/envs/snakemake/lib/python3.10/site-packages/pandas/core/frame.py:4905\u001b[0m, in \u001b[0;36mDataFrame._sanitize_column\u001b[0;34m(self, value)\u001b[0m\n\u001b[1;32m   4902\u001b[0m     \u001b[39mreturn\u001b[39;00m _reindex_for_setitem(Series(value), \u001b[39mself\u001b[39m\u001b[39m.\u001b[39mindex)\n\u001b[1;32m   4904\u001b[0m \u001b[39mif\u001b[39;00m is_list_like(value):\n\u001b[0;32m-> 4905\u001b[0m     com\u001b[39m.\u001b[39;49mrequire_length_match(value, \u001b[39mself\u001b[39;49m\u001b[39m.\u001b[39;49mindex)\n\u001b[1;32m   4906\u001b[0m \u001b[39mreturn\u001b[39;00m sanitize_array(value, \u001b[39mself\u001b[39m\u001b[39m.\u001b[39mindex, copy\u001b[39m=\u001b[39m\u001b[39mTrue\u001b[39;00m, allow_2d\u001b[39m=\u001b[39m\u001b[39mTrue\u001b[39;00m)\n",
      "File \u001b[0;32m~/anaconda3/envs/snakemake/lib/python3.10/site-packages/pandas/core/common.py:561\u001b[0m, in \u001b[0;36mrequire_length_match\u001b[0;34m(data, index)\u001b[0m\n\u001b[1;32m    557\u001b[0m \u001b[39m\"\"\"\u001b[39;00m\n\u001b[1;32m    558\u001b[0m \u001b[39mCheck the length of data matches the length of the index.\u001b[39;00m\n\u001b[1;32m    559\u001b[0m \u001b[39m\"\"\"\u001b[39;00m\n\u001b[1;32m    560\u001b[0m \u001b[39mif\u001b[39;00m \u001b[39mlen\u001b[39m(data) \u001b[39m!=\u001b[39m \u001b[39mlen\u001b[39m(index):\n\u001b[0;32m--> 561\u001b[0m     \u001b[39mraise\u001b[39;00m \u001b[39mValueError\u001b[39;00m(\n\u001b[1;32m    562\u001b[0m         \u001b[39m\"\u001b[39m\u001b[39mLength of values \u001b[39m\u001b[39m\"\u001b[39m\n\u001b[1;32m    563\u001b[0m         \u001b[39mf\u001b[39m\u001b[39m\"\u001b[39m\u001b[39m(\u001b[39m\u001b[39m{\u001b[39;00m\u001b[39mlen\u001b[39m(data)\u001b[39m}\u001b[39;00m\u001b[39m) \u001b[39m\u001b[39m\"\u001b[39m\n\u001b[1;32m    564\u001b[0m         \u001b[39m\"\u001b[39m\u001b[39mdoes not match length of index \u001b[39m\u001b[39m\"\u001b[39m\n\u001b[1;32m    565\u001b[0m         \u001b[39mf\u001b[39m\u001b[39m\"\u001b[39m\u001b[39m(\u001b[39m\u001b[39m{\u001b[39;00m\u001b[39mlen\u001b[39m(index)\u001b[39m}\u001b[39;00m\u001b[39m)\u001b[39m\u001b[39m\"\u001b[39m\n\u001b[1;32m    566\u001b[0m     )\n",
      "\u001b[0;31mValueError\u001b[0m: Length of values (79) does not match length of index (59)"
     ]
    }
   ],
   "source": [
    "# fasta_sequences = SeqIO.parse(open(snakemake.input[0]),'fasta')\n",
    "# df = pd.DataFrame(index=range(bp_upstream,bp_downstream-1,1))\n",
    "# for fasta in fasta_sequences:\n",
    "#     nameSeq, sequence = fasta.id, str(fasta.seq)\n",
    "#     result = seqTodiValues(sequence, 'stability')\n",
    "#     df[str(nameSeq)] = result\n",
    "#     df[str(nameSeq)] = df[str(nameSeq)].rolling(15).mean()\n",
    "# df[\"mean\"] = df.mean(axis=1)\n",
    "# if not(df.empty):\n",
    "#     df.plot(use_index=True)\n",
    "#     plt.legend('')\n",
    "#     plt.savefig(snakemake.output[1])\n",
    "#     df.to_csv(snakemake.output[2], index=True)\n",
    "# else:\n",
    "#     plt.savefig(snakemake.output[1])\n",
    "#     plt.show()\n",
    "#     df.to_csv(snakemake.output[2], index=True)"
   ]
  },
  {
   "cell_type": "code",
   "execution_count": null,
   "id": "eb503adf",
   "metadata": {},
   "outputs": [],
   "source": [
    "# fasta_sequences = SeqIO.parse(open(snakemake.input[0]),'fasta')\n",
    "# df = pd.DataFrame(index=range(bp_upstream,bp_downstream-2,1))\n",
    "# for fasta in fasta_sequences:\n",
    "#     nameSeq, sequence = fasta.id, str(fasta.seq)\n",
    "#     result = seqTotriValues(sequence, 'DNAse1_bendability')\n",
    "#     df[str(nameSeq)] = result\n",
    "#     df[str(nameSeq)] = df[str(nameSeq)].rolling(20).mean()\n",
    "# df[\"mean\"] = df.mean(axis=1)\n",
    "# if not(df.empty):\n",
    "#     df.plot(use_index=True)\n",
    "#     plt.legend('')\n",
    "#     plt.savefig(snakemake.output[3])\n",
    "#     df.to_csv(snakemake.output[4], index=True)\n",
    "# else:\n",
    "#     plt.savefig(snakemake.output[3])\n",
    "#     plt.show()\n",
    "#     df.to_csv(snakemake.output[4], index=True)"
   ]
  },
  {
   "cell_type": "code",
   "execution_count": null,
   "id": "db001b26",
   "metadata": {},
   "outputs": [],
   "source": []
  },
  {
   "cell_type": "code",
   "execution_count": null,
   "id": "c44d2eeb",
   "metadata": {},
   "outputs": [
    {
     "name": "stdout",
     "output_type": "stream",
     "text": [
      "LUZ7 t5 plus\n"
     ]
    }
   ],
   "source": []
  }
 ],
 "metadata": {
  "kernelspec": {
   "display_name": "Python 3.10.6 ('snakemake')",
   "language": "python",
   "name": "python3"
  },
  "language_info": {
   "codemirror_mode": {
    "name": "ipython",
    "version": 3
   },
   "file_extension": ".py",
   "mimetype": "text/x-python",
   "name": "python",
   "nbconvert_exporter": "python",
   "pygments_lexer": "ipython3",
   "version": "3.10.6"
  },
  "vscode": {
   "interpreter": {
    "hash": "ef31514a049d09cd9479ee098d080d5f21fcc92d4192e067783219aaec0a2b39"
   }
  }
 },
 "nbformat": 4,
 "nbformat_minor": 5
}
