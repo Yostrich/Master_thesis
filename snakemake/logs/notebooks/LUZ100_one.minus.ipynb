{
 "cells": [
  {
   "cell_type": "code",
   "execution_count": 1,
   "id": "d4c20cef",
   "metadata": {
    "execution": {
     "iopub.execute_input": "2022-11-09T17:49:59.458037Z",
     "iopub.status.busy": "2022-11-09T17:49:59.457433Z",
     "iopub.status.idle": "2022-11-09T17:49:59.627429Z",
     "shell.execute_reply": "2022-11-09T17:49:59.626343Z"
    },
    "tags": [
     "snakemake-job-properties"
    ]
   },
   "outputs": [],
   "source": [
    "\n",
    "######## snakemake preamble start (automatically inserted, do not edit) ########\n",
    "import sys; sys.path.extend(['/home/yostrich/anaconda3/envs/snakemake/lib/python3.10/site-packages', '/mnt/c/Users/danis/Desktop/Thesis/pipeline_snakemake/workflow/rules/../../notebooks']); import pickle; snakemake = pickle.loads(b'\\x80\\x04\\x95\\xf7\\x07\\x00\\x00\\x00\\x00\\x00\\x00\\x8c\\x10snakemake.script\\x94\\x8c\\tSnakemake\\x94\\x93\\x94)\\x81\\x94}\\x94(\\x8c\\x05input\\x94\\x8c\\x0csnakemake.io\\x94\\x8c\\nInputFiles\\x94\\x93\\x94)\\x81\\x94\\x8c7TSS_LUZ100_one/TSS_seq_LUZ100_enriched_one.minus.fa.out\\x94a}\\x94(\\x8c\\x06_names\\x94}\\x94\\x8c\\x12_allowed_overrides\\x94]\\x94(\\x8c\\x05index\\x94\\x8c\\x04sort\\x94eh\\x10\\x8c\\tfunctools\\x94\\x8c\\x07partial\\x94\\x93\\x94h\\x06\\x8c\\x19Namedlist._used_attribute\\x94\\x93\\x94\\x85\\x94R\\x94(h\\x16)}\\x94\\x8c\\x05_name\\x94h\\x10sNt\\x94bh\\x11h\\x14h\\x16\\x85\\x94R\\x94(h\\x16)}\\x94h\\x1ah\\x11sNt\\x94bub\\x8c\\x06output\\x94h\\x06\\x8c\\x0bOutputFiles\\x94\\x93\\x94)\\x81\\x94(\\x8cCTSS_LUZ100_one/structural_properties/LUZ100_one_curvature.minus.png\\x94\\x8cCTSS_LUZ100_one/structural_properties/LUZ100_one_curvature.minus.csv\\x94\\x8cCTSS_LUZ100_one/structural_properties/LUZ100_one_stability.minus.png\\x94\\x8cCTSS_LUZ100_one/structural_properties/LUZ100_one_stability.minus.csv\\x94\\x8cETSS_LUZ100_one/structural_properties/LUZ100_one_bendability.minus.png\\x94\\x8cETSS_LUZ100_one/structural_properties/LUZ100_one_bendability.minus.csv\\x94e}\\x94(h\\x0c}\\x94h\\x0e]\\x94(h\\x10h\\x11eh\\x10h\\x14h\\x16\\x85\\x94R\\x94(h\\x16)}\\x94h\\x1ah\\x10sNt\\x94bh\\x11h\\x14h\\x16\\x85\\x94R\\x94(h\\x16)}\\x94h\\x1ah\\x11sNt\\x94bub\\x8c\\x06params\\x94h\\x06\\x8c\\x06Params\\x94\\x93\\x94)\\x81\\x94}\\x94(h\\x0c}\\x94h\\x0e]\\x94(h\\x10h\\x11eh\\x10h\\x14h\\x16\\x85\\x94R\\x94(h\\x16)}\\x94h\\x1ah\\x10sNt\\x94bh\\x11h\\x14h\\x16\\x85\\x94R\\x94(h\\x16)}\\x94h\\x1ah\\x11sNt\\x94bub\\x8c\\twildcards\\x94h\\x06\\x8c\\tWildcards\\x94\\x93\\x94)\\x81\\x94(\\x8c\\x06LUZ100\\x94\\x8c\\x03one\\x94\\x8c\\x05minus\\x94e}\\x94(h\\x0c}\\x94(\\x8c\\x05phage\\x94K\\x00N\\x86\\x94\\x8c\\x05ident\\x94K\\x01N\\x86\\x94\\x8c\\x04sign\\x94K\\x02N\\x86\\x94uh\\x0e]\\x94(h\\x10h\\x11eh\\x10h\\x14h\\x16\\x85\\x94R\\x94(h\\x16)}\\x94h\\x1ah\\x10sNt\\x94bh\\x11h\\x14h\\x16\\x85\\x94R\\x94(h\\x16)}\\x94h\\x1ah\\x11sNt\\x94b\\x8c\\x05phage\\x94hH\\x8c\\x05ident\\x94hI\\x8c\\x04sign\\x94hJub\\x8c\\x07threads\\x94K\\x01\\x8c\\tresources\\x94h\\x06\\x8c\\tResources\\x94\\x93\\x94)\\x81\\x94(K\\x01K\\x01\\x8c\\x04/tmp\\x94e}\\x94(h\\x0c}\\x94(\\x8c\\x06_cores\\x94K\\x00N\\x86\\x94\\x8c\\x06_nodes\\x94K\\x01N\\x86\\x94\\x8c\\x06tmpdir\\x94K\\x02N\\x86\\x94uh\\x0e]\\x94(h\\x10h\\x11eh\\x10h\\x14h\\x16\\x85\\x94R\\x94(h\\x16)}\\x94h\\x1ah\\x10sNt\\x94bh\\x11h\\x14h\\x16\\x85\\x94R\\x94(h\\x16)}\\x94h\\x1ah\\x11sNt\\x94bhgK\\x01hiK\\x01hkhdub\\x8c\\x03log\\x94h\\x06\\x8c\\x03Log\\x94\\x93\\x94)\\x81\\x94\\x8c%logs/notebooks/LUZ100_one.minus.ipynb\\x94a}\\x94(h\\x0c}\\x94\\x8c\\x08notebook\\x94K\\x00N\\x86\\x94sh\\x0e]\\x94(h\\x10h\\x11eh\\x10h\\x14h\\x16\\x85\\x94R\\x94(h\\x16)}\\x94h\\x1ah\\x10sNt\\x94bh\\x11h\\x14h\\x16\\x85\\x94R\\x94(h\\x16)}\\x94h\\x1ah\\x11sNt\\x94bh}hzub\\x8c\\x06config\\x94}\\x94(\\x8c\\nPhage name\\x94\\x8c\\x04LUZ7\\x94\\x8c\\nfasta file\\x94\\x8c\\x0cLUZ100.fasta\\x94\\x8c\\x0eenriched fastq\\x94\\x8c\\x1ctestData/LUZ7_enriched.fastq\\x94\\x8c\\rcontrol fastq\\x94\\x8c\\x1btestData/LUZ7_control.fastq\\x94\\x8c\\x02ID\\x94\\x8c\\x01a\\x94\\x8c\\rtermseq alpha\\x94G?\\xa9\\x99\\x99\\x99\\x99\\x99\\x9a\\x8c\\rcluster width\\x94}\\x94(\\x8c\\x03TSS\\x94K\\n\\x8c\\x03TTS\\x94K\\x14u\\x8c\\x10minimum coverage\\x94}\\x94(\\x8c\\x03TSS\\x94K\\x03\\x8c\\x03TTS\\x94K\\x1eu\\x8c\\x14peak alignment error\\x94K\\x02\\x8c\\rTSS Threshold\\x94K\\x01\\x8c\\rTTS threshold\\x94G?\\xc9\\x99\\x99\\x99\\x99\\x99\\x9a\\x8c\\x17TSS sequence extraction\\x94}\\x94(\\x8c\\x08upstream\\x94Kd\\x8c\\ndownstream\\x94Kdu\\x8c\\x17TTS sequence extraction\\x94}\\x94(\\x8c\\x08upstream\\x94Kd\\x8c\\ndownstream\\x94K\\x14uu\\x8c\\x04rule\\x94\\x8c\\x0ecreateNotebook\\x94\\x8c\\x0fbench_iteration\\x94N\\x8c\\tscriptdir\\x94\\x8cS/mnt/c/Users/danis/Desktop/Thesis/pipeline_snakemake/workflow/rules/../../notebooks\\x94ub.'); from snakemake.logging import logger; logger.printshellcmds = False; import os; os.chdir(r'/mnt/c/Users/danis/Desktop/Thesis/pipeline_snakemake');\n",
    "######## snakemake preamble end #########\n"
   ]
  },
  {
   "cell_type": "code",
   "execution_count": 2,
   "id": "0cd7a3ea",
   "metadata": {
    "execution": {
     "iopub.execute_input": "2022-11-09T17:49:59.631536Z",
     "iopub.status.busy": "2022-11-09T17:49:59.631026Z",
     "iopub.status.idle": "2022-11-09T17:50:00.822739Z",
     "shell.execute_reply": "2022-11-09T17:50:00.821942Z"
    }
   },
   "outputs": [],
   "source": [
    "# dependencies\n",
    "from dnacurve import CurvedDNA\n",
    "from Bio import SeqIO\n",
    "import pandas as pd\n",
    "import matplotlib.pyplot as plt\n",
    "from operator import truediv\n",
    "from scipy import signal"
   ]
  },
  {
   "cell_type": "code",
   "execution_count": 3,
   "id": "e52474bd",
   "metadata": {
    "execution": {
     "iopub.execute_input": "2022-11-09T17:50:00.826521Z",
     "iopub.status.busy": "2022-11-09T17:50:00.825811Z",
     "iopub.status.idle": "2022-11-09T17:50:00.833211Z",
     "shell.execute_reply": "2022-11-09T17:50:00.832171Z"
    }
   },
   "outputs": [],
   "source": [
    "def seqTodiValues(seq, property_name):\n",
    "    diNucTable = pd.read_csv('workflow/tables/dinucleotideTable.csv')\n",
    "    value_list = []\n",
    "    for i in range(0,len(seq)-1):\n",
    "        j = i+2\n",
    "        value_list.append(diNucTable.query(f\"sequence == '{seq[i:j]}'\")[property_name].item())\n",
    "    return value_list\n",
    "def seqTotriValues(seq, property_name):\n",
    "    triNucTable = pd.read_csv('workflow/tables/trinucleotideTable.csv')\n",
    "    value_list = []\n",
    "    for i in range(0,len(seq)-2):\n",
    "        j = i+3\n",
    "        print( f\"{seq[i:j]}\")\n",
    "        value_list.append(triNucTable.query(f\"sequence == '{seq[i:j]}'\")[property_name].item())\n",
    "    return value_list\n",
    "\n",
    "def smooth(value_list, window):\n",
    "    tempList = value_list + [0]*6\n",
    "    print(tempList)\n",
    "    newList = []\n",
    "    for i in range(0, len(value_list)):\n",
    "        end = i+window\n",
    "        Sum = sum(tempList[i:end])/window\n",
    "        newList.append(Sum)\n",
    "    return newList\n"
   ]
  },
  {
   "cell_type": "code",
   "execution_count": null,
   "id": "99b6f637",
   "metadata": {},
   "outputs": [],
   "source": []
  },
  {
   "cell_type": "code",
   "execution_count": 4,
   "id": "39d7f9fb",
   "metadata": {
    "execution": {
     "iopub.execute_input": "2022-11-09T17:50:00.836546Z",
     "iopub.status.busy": "2022-11-09T17:50:00.836297Z",
     "iopub.status.idle": "2022-11-09T17:50:00.840138Z",
     "shell.execute_reply": "2022-11-09T17:50:00.839477Z"
    }
   },
   "outputs": [],
   "source": [
    "bp_upstream = -1*snakemake.config[\"TSS sequence extraction\"][\"upstream\"]\n",
    "bp_downstream = snakemake.config[\"TSS sequence extraction\"][\"downstream\"]"
   ]
  },
  {
   "cell_type": "code",
   "execution_count": 5,
   "id": "16fe6b48",
   "metadata": {
    "execution": {
     "iopub.execute_input": "2022-11-09T17:50:00.843151Z",
     "iopub.status.busy": "2022-11-09T17:50:00.842911Z",
     "iopub.status.idle": "2022-11-09T17:50:01.033663Z",
     "shell.execute_reply": "2022-11-09T17:50:01.032566Z"
    }
   },
   "outputs": [
    {
     "data": {
      "image/png": "[encoded data removed]",
      "text/plain": [
       "<Figure size 640x480 with 1 Axes>"
      ]
     },
     "metadata": {},
     "output_type": "display_data"
    }
   ],
   "source": [
    "fasta_sequences = SeqIO.parse(open(snakemake.input[0]),'fasta')\n",
    "df = pd.DataFrame(index=range(bp_upstream,bp_downstream,1))\n",
    "for fasta in fasta_sequences:\n",
    "    nameSeq, sequence = fasta.id, str(fasta.seq)\n",
    "    result = CurvedDNA(sequence, 'trifonov', name=nameSeq)\n",
    "    df[str(result.name)] = result.curvature[0,:]\n",
    "    df[str(result.name)] = df[str(result.name)]\n",
    "df[\"mean\"] = df.mean(axis=1).rolling(20).mean()\n",
    "if not(df.empty):\n",
    "    df.plot(use_index=True)\n",
    "    plt.legend('')\n",
    "    plt.savefig(snakemake.output[0])\n",
    "    df.to_csv(snakemake.output[1], index=True)\n",
    "else:\n",
    "    plt.savefig(snakemake.output[0])\n",
    "    plt.show()\n",
    "    df.to_csv(snakemake.output[1], index=True)"
   ]
  },
  {
   "cell_type": "code",
   "execution_count": 6,
   "id": "dba6887c",
   "metadata": {
    "execution": {
     "iopub.execute_input": "2022-11-09T17:50:01.037261Z",
     "iopub.status.busy": "2022-11-09T17:50:01.036930Z",
     "iopub.status.idle": "2022-11-09T17:50:01.180658Z",
     "shell.execute_reply": "2022-11-09T17:50:01.179660Z"
    }
   },
   "outputs": [
    {
     "data": {
      "image/png": "[encoded data removed]",
      "text/plain": [
       "<Figure size 640x480 with 1 Axes>"
      ]
     },
     "metadata": {},
     "output_type": "display_data"
    }
   ],
   "source": [
    "fasta_sequences = SeqIO.parse(open(snakemake.input[0]),'fasta')\n",
    "df = pd.DataFrame(index=range(bp_upstream,bp_downstream-1,1))\n",
    "for fasta in fasta_sequences:\n",
    "    nameSeq, sequence = fasta.id, str(fasta.seq)\n",
    "    result = seqTodiValues(sequence, 'stability')\n",
    "    df[str(nameSeq)] = result\n",
    "    df[str(nameSeq)] = df[str(nameSeq)].rolling(15).mean()\n",
    "df[\"mean\"] = df.mean(axis=1)\n",
    "if not(df.empty):\n",
    "    df.plot(use_index=True)\n",
    "    plt.legend('')\n",
    "    plt.savefig(snakemake.output[2])\n",
    "    df.to_csv(snakemake.output[3], index=True)\n",
    "else:\n",
    "    plt.savefig(snakemake.output[2])\n",
    "    plt.show()\n",
    "    df.to_csv(snakemake.output[3], index=True)"
   ]
  },
  {
   "cell_type": "code",
   "execution_count": 7,
   "id": "eb503adf",
   "metadata": {
    "execution": {
     "iopub.execute_input": "2022-11-09T17:50:01.184167Z",
     "iopub.status.busy": "2022-11-09T17:50:01.183913Z",
     "iopub.status.idle": "2022-11-09T17:50:01.325187Z",
     "shell.execute_reply": "2022-11-09T17:50:01.324508Z"
    }
   },
   "outputs": [
    {
     "data": {
      "image/png": "[encoded data removed]",
      "text/plain": [
       "<Figure size 640x480 with 1 Axes>"
      ]
     },
     "metadata": {},
     "output_type": "display_data"
    }
   ],
   "source": [
    "fasta_sequences = SeqIO.parse(open(snakemake.input[0]),'fasta')\n",
    "df = pd.DataFrame(index=range(bp_upstream,bp_downstream-2,1))\n",
    "for fasta in fasta_sequences:\n",
    "    nameSeq, sequence = fasta.id, str(fasta.seq)\n",
    "    result = seqTotriValues(sequence, 'DNAse1_bendability')\n",
    "    df[str(nameSeq)] = result\n",
    "    df[str(nameSeq)] = df[str(nameSeq)].rolling(30).mean()\n",
    "df[\"mean\"] = df.mean(axis=1)\n",
    "if not(df.empty):\n",
    "    df.plot(use_index=True)\n",
    "    plt.legend('')\n",
    "    plt.savefig(snakemake.output[4])\n",
    "    df.to_csv(snakemake.output[5], index=True)\n",
    "else:\n",
    "    plt.savefig(snakemake.output[4])\n",
    "    plt.show()\n",
    "    df.to_csv(snakemake.output[5], index=True)"
   ]
  },
  {
   "cell_type": "code",
   "execution_count": null,
   "id": "db001b26",
   "metadata": {},
   "outputs": [],
   "source": []
  },
  {
   "cell_type": "code",
   "execution_count": null,
   "id": "c44d2eeb",
   "metadata": {},
   "outputs": [
    {
     "name": "stdout",
     "output_type": "stream",
     "text": [
      "LUZ7 t5 plus\n"
     ]
    }
   ],
   "source": []
  }
 ],
 "metadata": {
  "kernelspec": {
   "display_name": "Python 3.10.6 ('snakemake')",
   "language": "python",
   "name": "python3"
  },
  "language_info": {
   "codemirror_mode": {
    "name": "ipython",
    "version": 3
   },
   "file_extension": ".py",
   "mimetype": "text/x-python",
   "name": "python",
   "nbconvert_exporter": "python",
   "pygments_lexer": "ipython3",
   "version": "3.10.6"
  },
  "vscode": {
   "interpreter": {
    "hash": "ef31514a049d09cd9479ee098d080d5f21fcc92d4192e067783219aaec0a2b39"
   }
  }
 },
 "nbformat": 4,
 "nbformat_minor": 5
}
