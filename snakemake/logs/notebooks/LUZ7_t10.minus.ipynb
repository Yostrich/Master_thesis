{
 "cells": [
  {
   "cell_type": "code",
   "execution_count": 1,
   "id": "751299e2",
   "metadata": {
    "execution": {
     "iopub.execute_input": "2022-10-17T13:23:53.047726Z",
     "iopub.status.busy": "2022-10-17T13:23:53.046867Z",
     "iopub.status.idle": "2022-10-17T13:23:53.198169Z",
     "shell.execute_reply": "2022-10-17T13:23:53.197288Z"
    },
    "tags": [
     "snakemake-job-properties"
    ]
   },
   "outputs": [],
   "source": [
    "\n",
    "######## snakemake preamble start (automatically inserted, do not edit) ########\n",
    "import sys; sys.path.extend(['/home/yostrich/anaconda3/envs/snakemake/lib/python3.10/site-packages', '/mnt/c/Users/danis/Desktop/Thesis/pipeline_snakemake/workflow/rules/../../notebooks']); import pickle; snakemake = pickle.loads(b'\\x80\\x04\\x95\\xcb\\x06\\x00\\x00\\x00\\x00\\x00\\x00\\x8c\\x10snakemake.script\\x94\\x8c\\tSnakemake\\x94\\x93\\x94)\\x81\\x94}\\x94(\\x8c\\x05input\\x94\\x8c\\x0csnakemake.io\\x94\\x8c\\nInputFiles\\x94\\x93\\x94)\\x81\\x94\\x8c3TSS_LUZ7_t10/TSS_seq_LUZ7_enriched_t10.minus.fa.out\\x94a}\\x94(\\x8c\\x06_names\\x94}\\x94\\x8c\\x12_allowed_overrides\\x94]\\x94(\\x8c\\x05index\\x94\\x8c\\x04sort\\x94eh\\x10\\x8c\\tfunctools\\x94\\x8c\\x07partial\\x94\\x93\\x94h\\x06\\x8c\\x19Namedlist._used_attribute\\x94\\x93\\x94\\x85\\x94R\\x94(h\\x16)}\\x94\\x8c\\x05_name\\x94h\\x10sNt\\x94bh\\x11h\\x14h\\x16\\x85\\x94R\\x94(h\\x16)}\\x94h\\x1ah\\x11sNt\\x94bub\\x8c\\x06output\\x94h\\x06\\x8c\\x0bOutputFiles\\x94\\x93\\x94)\\x81\\x94(\\x8c?TSS_LUZ7_t10/structural_properties/LUZ7_t10_curvature.minus.png\\x94\\x8c?TSS_LUZ7_t10/structural_properties/LUZ7_t10_curvature.minus.csv\\x94e}\\x94(h\\x0c}\\x94h\\x0e]\\x94(h\\x10h\\x11eh\\x10h\\x14h\\x16\\x85\\x94R\\x94(h\\x16)}\\x94h\\x1ah\\x10sNt\\x94bh\\x11h\\x14h\\x16\\x85\\x94R\\x94(h\\x16)}\\x94h\\x1ah\\x11sNt\\x94bub\\x8c\\x06params\\x94h\\x06\\x8c\\x06Params\\x94\\x93\\x94)\\x81\\x94}\\x94(h\\x0c}\\x94h\\x0e]\\x94(h\\x10h\\x11eh\\x10h\\x14h\\x16\\x85\\x94R\\x94(h\\x16)}\\x94h\\x1ah\\x10sNt\\x94bh\\x11h\\x14h\\x16\\x85\\x94R\\x94(h\\x16)}\\x94h\\x1ah\\x11sNt\\x94bub\\x8c\\twildcards\\x94h\\x06\\x8c\\tWildcards\\x94\\x93\\x94)\\x81\\x94(\\x8c\\x04LUZ7\\x94\\x8c\\x03t10\\x94\\x8c\\x05minus\\x94e}\\x94(h\\x0c}\\x94(\\x8c\\x05phage\\x94K\\x00N\\x86\\x94\\x8c\\x05ident\\x94K\\x01N\\x86\\x94\\x8c\\x04sign\\x94K\\x02N\\x86\\x94uh\\x0e]\\x94(h\\x10h\\x11eh\\x10h\\x14h\\x16\\x85\\x94R\\x94(h\\x16)}\\x94h\\x1ah\\x10sNt\\x94bh\\x11h\\x14h\\x16\\x85\\x94R\\x94(h\\x16)}\\x94h\\x1ah\\x11sNt\\x94b\\x8c\\x05phage\\x94hD\\x8c\\x05ident\\x94hE\\x8c\\x04sign\\x94hFub\\x8c\\x07threads\\x94K\\x01\\x8c\\tresources\\x94h\\x06\\x8c\\tResources\\x94\\x93\\x94)\\x81\\x94(K\\x01K\\x01\\x8c\\x04/tmp\\x94e}\\x94(h\\x0c}\\x94(\\x8c\\x06_cores\\x94K\\x00N\\x86\\x94\\x8c\\x06_nodes\\x94K\\x01N\\x86\\x94\\x8c\\x06tmpdir\\x94K\\x02N\\x86\\x94uh\\x0e]\\x94(h\\x10h\\x11eh\\x10h\\x14h\\x16\\x85\\x94R\\x94(h\\x16)}\\x94h\\x1ah\\x10sNt\\x94bh\\x11h\\x14h\\x16\\x85\\x94R\\x94(h\\x16)}\\x94h\\x1ah\\x11sNt\\x94bhcK\\x01heK\\x01hgh`ub\\x8c\\x03log\\x94h\\x06\\x8c\\x03Log\\x94\\x93\\x94)\\x81\\x94\\x8c#logs/notebooks/LUZ7_t10.minus.ipynb\\x94a}\\x94(h\\x0c}\\x94\\x8c\\x08notebook\\x94K\\x00N\\x86\\x94sh\\x0e]\\x94(h\\x10h\\x11eh\\x10h\\x14h\\x16\\x85\\x94R\\x94(h\\x16)}\\x94h\\x1ah\\x10sNt\\x94bh\\x11h\\x14h\\x16\\x85\\x94R\\x94(h\\x16)}\\x94h\\x1ah\\x11sNt\\x94bhyhvub\\x8c\\x06config\\x94}\\x94(\\x8c\\nPhage name\\x94\\x8c\\x04LUZ7\\x94\\x8c\\nfasta file\\x94\\x8c\\nLUZ7.fasta\\x94\\x8c\\x0eenriched fastq\\x94\\x8c\\x1ctestData/LUZ7_enriched.fastq\\x94\\x8c\\rcontrol fastq\\x94\\x8c\\x1btestData/LUZ7_control.fastq\\x94\\x8c\\x02ID\\x94\\x8c\\x03t10\\x94\\x8c\\rtermseq alpha\\x94G?\\xa9\\x99\\x99\\x99\\x99\\x99\\x9a\\x8c\\rcluster width\\x94}\\x94(\\x8c\\x03TSS\\x94K\\n\\x8c\\x03TTS\\x94K\\x14u\\x8c\\x10minimum coverage\\x94}\\x94(\\x8c\\x03TSS\\x94K\\x05\\x8c\\x03TTS\\x94K\\x1eu\\x8c\\x14peak alignment error\\x94K\\x02\\x8c\\rTSS Threshold\\x94K\\x01\\x8c\\rTTS threshold\\x94G?\\xc9\\x99\\x99\\x99\\x99\\x99\\x9a\\x8c\\x17TSS sequence extraction\\x94}\\x94(\\x8c\\x08upstream\\x94K<\\x8c\\ndownstream\\x94K\\x14u\\x8c\\x17TTS sequence extraction\\x94}\\x94(\\x8c\\x08upstream\\x94Kd\\x8c\\ndownstream\\x94K\\x14uu\\x8c\\x04rule\\x94\\x8c\\x0ecreateNotebook\\x94\\x8c\\x0fbench_iteration\\x94N\\x8c\\tscriptdir\\x94\\x8cS/mnt/c/Users/danis/Desktop/Thesis/pipeline_snakemake/workflow/rules/../../notebooks\\x94ub.'); from snakemake.logging import logger; logger.printshellcmds = False; import os; os.chdir(r'/mnt/c/Users/danis/Desktop/Thesis/pipeline_snakemake');\n",
    "######## snakemake preamble end #########\n"
   ]
  },
  {
   "cell_type": "code",
   "execution_count": 2,
   "id": "0cd7a3ea",
   "metadata": {
    "execution": {
     "iopub.execute_input": "2022-10-17T13:23:53.201632Z",
     "iopub.status.busy": "2022-10-17T13:23:53.201330Z",
     "iopub.status.idle": "2022-10-17T13:23:53.880369Z",
     "shell.execute_reply": "2022-10-17T13:23:53.879252Z"
    }
   },
   "outputs": [],
   "source": [
    "# dependencies\n",
    "from dnacurve import CurvedDNA\n",
    "from Bio import SeqIO\n",
    "import pandas as pd\n",
    "import matplotlib.pyplot as plt"
   ]
  },
  {
   "cell_type": "code",
   "execution_count": 3,
   "id": "39d7f9fb",
   "metadata": {
    "execution": {
     "iopub.execute_input": "2022-10-17T13:23:53.883799Z",
     "iopub.status.busy": "2022-10-17T13:23:53.883480Z",
     "iopub.status.idle": "2022-10-17T13:23:53.939063Z",
     "shell.execute_reply": "2022-10-17T13:23:53.938210Z"
    }
   },
   "outputs": [
    {
     "data": {
      "text/plain": [
       "<Figure size 640x480 with 0 Axes>"
      ]
     },
     "metadata": {},
     "output_type": "display_data"
    }
   ],
   "source": [
    "from operator import truediv\n",
    "start = snakemake.config[\"TSS sequence extraction\"][\"upstream\"]\n",
    "end = -1*snakemake.config[\"TSS sequence extraction\"][\"downstream\"]\n",
    "\n",
    "fasta_sequences = SeqIO.parse(open(snakemake.input[0]),'fasta')\n",
    "df = pd.DataFrame(index=range(start - 10,end + 10,-1))\n",
    "for fasta in fasta_sequences:\n",
    "    nameSeq, sequence = fasta.id, str(fasta.seq)\n",
    "    result = CurvedDNA(sequence, 'trifonov', name=nameSeq)\n",
    "    df[str(result.name)] = result.curvature[0,10:-10]\n",
    "if not(df.empty):\n",
    "    df.plot(use_index=True).invert_xaxis()\n",
    "    plt.savefig(snakemake.output[0])\n",
    "    df.to_csv(snakemake.output[1], index=True)\n",
    "else:\n",
    "    plt.savefig(snakemake.output[0])\n",
    "    plt.show()\n",
    "    df.to_csv(snakemake.output[1], index=True)"
   ]
  },
  {
   "cell_type": "code",
   "execution_count": 4,
   "id": "c44d2eeb",
   "metadata": {
    "execution": {
     "iopub.execute_input": "2022-10-17T13:23:53.942349Z",
     "iopub.status.busy": "2022-10-17T13:23:53.942111Z",
     "iopub.status.idle": "2022-10-17T13:23:53.946704Z",
     "shell.execute_reply": "2022-10-17T13:23:53.945611Z"
    }
   },
   "outputs": [
    {
     "name": "stdout",
     "output_type": "stream",
     "text": [
      "LUZ7 t10 minus\n"
     ]
    }
   ],
   "source": [
    "print(snakemake.wildcards)"
   ]
  }
 ],
 "metadata": {
  "kernelspec": {
   "display_name": "Python 3.10.6 ('snakemake')",
   "language": "python",
   "name": "python3"
  },
  "language_info": {
   "codemirror_mode": {
    "name": "ipython",
    "version": 3
   },
   "file_extension": ".py",
   "mimetype": "text/x-python",
   "name": "python",
   "nbconvert_exporter": "python",
   "pygments_lexer": "ipython3",
   "version": "3.10.6"
  },
  "vscode": {
   "interpreter": {
    "hash": "ef31514a049d09cd9479ee098d080d5f21fcc92d4192e067783219aaec0a2b39"
   }
  }
 },
 "nbformat": 4,
 "nbformat_minor": 5
}
