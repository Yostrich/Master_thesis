{
 "cells": [
  {
   "cell_type": "markdown",
   "id": "ae02c857",
   "metadata": {},
   "source": [
    "# Install packages "
   ]
  },
  {
   "cell_type": "code",
   "execution_count": 5,
   "id": "0fe9f4d2",
   "metadata": {},
   "outputs": [],
   "source": [
    "#!/usr/bin/env Rscript\n",
    "if (!require(\"dplyr\")) {\n",
    "    install.packages(\"dplyr\")\n",
    "}"
   ]
  },
  {
   "cell_type": "markdown",
   "id": "e8407b00",
   "metadata": {},
   "source": [
    "# include packages"
   ]
  },
  {
   "cell_type": "code",
   "execution_count": 1,
   "id": "ca1d4086",
   "metadata": {},
   "outputs": [
    {
     "name": "stderr",
     "output_type": "stream",
     "text": [
      "\n",
      "Attaching package: ‘dplyr’\n",
      "\n",
      "The following objects are masked from ‘package:stats’:\n",
      "\n",
      "    filter, lag\n",
      "\n",
      "The following objects are masked from ‘package:base’:\n",
      "\n",
      "    intersect, setdiff, setequal, union\n",
      "\n"
     ]
    }
   ],
   "source": [
    "library(dplyr)\n",
    "library(tools)"
   ]
  },
  {
   "cell_type": "markdown",
   "id": "099ab832",
   "metadata": {},
   "source": [
    "# functions"
   ]
  },
  {
   "cell_type": "code",
   "execution_count": 2,
   "id": "9042ec4a",
   "metadata": {},
   "outputs": [],
   "source": [
    "mod_tss_peaks <- function(input, strand_s, cov_min = 5, merge_w = 5){\n",
    "    input %>% dplyr::rename(chr = V1, start_peak = V2, end_peak = V3, \n",
    "                  prominence = V5, strand_peak = V6, width = V10,\n",
    "                  start_cov = V12, end_cov = V13, cov = V14, width_cov = V15, mapped_reads = V16) %>%\n",
    "    dplyr::select(-V4, -V7, -V8, -V11) %>%\n",
    "    group_by(start_peak, end_peak) %>%\n",
    "    dplyr::mutate(full_cov_peak = sum(cov))%>%\n",
    "    dplyr::filter(cov == max(cov)) %>%\n",
    "    dplyr::mutate(decision_v = ifelse(strand_s == \"+\", \n",
    "                                      min(end_cov), max(end_cov))) %>%\n",
    "    dplyr::filter(end_cov == decision_v) %>%\n",
    "    ungroup() %>%\n",
    "    arrange(end_cov) %>%\n",
    "    mutate(index = lag(end_cov, default = 1) + as.integer(merge_w),\n",
    "           index1 = cumsum(ifelse(index >= start_cov, 0, 1))+1) %>%\n",
    "    dplyr::group_by(index1) %>%\n",
    "    dplyr::mutate(full_cov_clust = sum(full_cov_peak))%>%\n",
    "    dplyr::filter(cov == max(cov),\n",
    "                  cov >= cov_min)%>%\n",
    "    dplyr::mutate(RPM = 1000000*full_cov_clust/mapped_reads)\n",
    "}\n",
    "\n",
    "cluster_peaks <- function(inputDirectory,clusterw){\n",
    "    directory = paste(inputDirectory,\"/*/*.normalized\",sep=\"\")\n",
    "    fileNames <- Sys.glob(directory)\n",
    "    for (fileName in fileNames) {\n",
    "        if (grepl(\".plus.\", fileName, fixed=TRUE)){\n",
    "            strand <- \"+\"\n",
    "        } else if (grepl(\".minus.\", fileName, fixed=TRUE)){\n",
    "            strand <- \"-\"\n",
    "        }else{\n",
    "            print(\"Can't decide between pos and neg\")\n",
    "        }\n",
    "        counts <- read.table(fileName)\n",
    "        peaks <- mod_tss_peaks(counts,strand,merge_w=clusterw)\n",
    "        write.csv(peaks, paste(file_path_sans_ext(fileName),\".clustered.csv\", sep = \"\"), row.names = FALSE)\n",
    "    }\n",
    "}"
   ]
  },
  {
   "cell_type": "markdown",
   "id": "a2fb1d5b",
   "metadata": {},
   "source": [
    "# get input and run clustering"
   ]
  },
  {
   "cell_type": "code",
   "execution_count": 8,
   "id": "66cfb6aa",
   "metadata": {},
   "outputs": [],
   "source": [
    "#directory=commandArgs(TRUE)[1]\n",
    "#clusterw=as.numeric(commandArgs(TRUE)[2])\n",
    "#cluster_peaks(directory,clusterw)\n",
    "\n",
    "cluster_peaks(\"tssLUZ100\",10)"
   ]
  },
  {
   "cell_type": "code",
   "execution_count": null,
   "id": "3590662b",
   "metadata": {},
   "outputs": [],
   "source": []
  }
 ],
 "metadata": {
  "kernelspec": {
   "display_name": "R",
   "language": "R",
   "name": "ir"
  },
  "language_info": {
   "codemirror_mode": "r",
   "file_extension": ".r",
   "mimetype": "text/x-r-source",
   "name": "R",
   "pygments_lexer": "r",
   "version": "3.6.1"
  }
 },
 "nbformat": 4,
 "nbformat_minor": 5
}
