{
 "cells": [
  {
   "cell_type": "markdown",
   "id": "55028b0a",
   "metadata": {},
   "source": [
    "# tss detection"
   ]
  },
  {
   "cell_type": "code",
   "execution_count": null,
   "id": "51218830",
   "metadata": {},
   "outputs": [],
   "source": [
    "# #!/bin/bash\n",
    "# #Input flags for batch files, do not run on notebook\n",
    "# while getopts 'i:' flag; do\n",
    "#   case \"${flag}\" in\n",
    "#       i) BAMFiles=\"${OPTARG}\";;\n",
    "#       ?) echo \"I don't know what flag is this\" ;;\n",
    "#            esac\n",
    "#        done"
   ]
  },
  {
   "cell_type": "code",
   "execution_count": 14,
   "id": "7219e8d5",
   "metadata": {},
   "outputs": [],
   "source": [
    "#temporary assignment of input variables for notebook, remove or comment out in bash file\n",
    "BAMFiles=input_bam_files/BAM_filesLUZ100"
   ]
  },
  {
   "cell_type": "markdown",
   "id": "fc886825",
   "metadata": {},
   "source": [
    "# function to determine peaks using termseq_peaks"
   ]
  },
  {
   "cell_type": "code",
   "execution_count": 15,
   "id": "67c07196",
   "metadata": {},
   "outputs": [],
   "source": [
    "# function to determine peaks using termseq_peaks\n",
    "determinePeaks(){\n",
    "    directoryBAMFiles=$1\n",
    "    outputDirectory=$2\n",
    "    ends=$3\n",
    "    \n",
    "    for file in $directoryBAMFiles/*.bam\n",
    "    do\n",
    "        # Extract file name of BAM file to use for other files\n",
    "        filename_extended=${file##*/}\n",
    "        searchstring=\".sorted.bam\"\n",
    "        filename=${filename_extended%$searchstring*}\n",
    "\n",
    "        # Create directory based on file name\n",
    "        mkdir ${outputDirectory}\n",
    "        mkdir ${outputDirectory}/${filename}\n",
    "\n",
    "        if [[ ends==\"5\" ]]\n",
    "        then\n",
    "            # Get genome coverage of bam files for both + and - strands. Used for termseq_peaks\n",
    "            bedtools genomecov \\\n",
    "            -ibam ${file} \\\n",
    "            -bga \\\n",
    "            -5 \\\n",
    "            -strand + > ${outputDirectory}/${filename}/${filename}.plus.bedgraph\n",
    "\n",
    "            bedtools genomecov \\\n",
    "            -ibam ${file} \\\n",
    "            -bga \\\n",
    "            -5 \\\n",
    "            -strand - > ${outputDirectory}/${filename}/${filename}.minus.bedgraph\n",
    "            elif [[ ends==\"3\" ]]\n",
    "        then\n",
    "            # Get genome coverage of bam files for both + and - strands. Used for termseq_peaks\n",
    "            bedtools genomecov \\\n",
    "            -ibam ${file} \\\n",
    "            -bga \\\n",
    "            -3 \\\n",
    "            -strand + > ${outputDirectory}/${filename}/${filename}.plus.bedgraph\n",
    "\n",
    "            bedtools genomecov \\\n",
    "            -ibam ${file} \\\n",
    "            -bga \\\n",
    "            -3 \\\n",
    "            -strand - > ${outputDirectory}/${filename}/${filename}.minus.bedgraph\n",
    "        else\n",
    "            echo \"error: wrong ends flag\"\n",
    "        fi\n",
    "        \n",
    "\n",
    "        # Use termseq_peaks to get peaks  \n",
    "        termseq_peaks ${outputDirectory}/${filename}/${filename}.plus.bedgraph \\\n",
    "        ${outputDirectory}/${filename}/${filename}.plus.bedgraph --peaks ${outputDirectory}/${filename}/${filename}.plus.peaks \\\n",
    "        --strand + -t 0.001\n",
    "\n",
    "        termseq_peaks ${outputDirectory}/${filename}/${filename}.minus.bedgraph \\\n",
    "        ${outputDirectory}/${filename}/${filename}.minus.bedgraph --peaks ${outputDirectory}/${filename}/${filename}.minus.peaks \\\n",
    "        --strand - -t 0.001\n",
    "\n",
    "        # Add coverage information\n",
    "        bedtools intersect \\\n",
    "          -wao \\\n",
    "          -a ${outputDirectory}/${filename}/${filename}.plus.peaks.oracle.narrowPeak \\\n",
    "          -b ${outputDirectory}/${filename}/${filename}.plus.bedgraph \\\n",
    "          > ${outputDirectory}/${filename}/${filename}.plus.peaks.oracle.narrowPeak.counts\n",
    "\n",
    "        bedtools intersect \\\n",
    "          -wao \\\n",
    "          -a ${outputDirectory}/${filename}/${filename}.minus.peaks.oracle.narrowPeak \\\n",
    "          -b ${outputDirectory}/${filename}/${filename}.minus.bedgraph \\\n",
    "          > ${outputDirectory}/${filename}/${filename}.minus.peaks.oracle.narrowPeak.counts\n",
    "\n",
    "          # Add total mapped reads\n",
    "          total_mapped=$(samtools view -c -F4 $directoryBAMFiles/$filename_extended)\n",
    "\n",
    "        awk '{print $1, $2, $3, $4, $5, $6, $7, $8 ,$9, $10, $11, $12, $13, $14, $15, '$total_mapped'}' \\\n",
    "        ${outputDirectory}/${filename}/${filename}.plus.peaks.oracle.narrowPeak.counts \\\n",
    "        > ${outputDirectory}/${filename}/${filename}.plus.peaks.oracle.narrowPeak.counts.normalized\n",
    "\n",
    "\n",
    "        awk '{print $1, $2, $3, $4, $5, $6, $7, $8 ,$9, $10, $11, $12, $13, $14, $15, '$total_mapped'}' \\\n",
    "        ${outputDirectory}/${filename}/${filename}.minus.peaks.oracle.narrowPeak.counts \\\n",
    "        > ${outputDirectory}/${filename}/${filename}.minus.peaks.oracle.narrowPeak.counts.normalized\n",
    "done\n",
    "}"
   ]
  },
  {
   "cell_type": "markdown",
   "id": "c874cebe",
   "metadata": {},
   "source": [
    "# TSS detection and clustering"
   ]
  },
  {
   "cell_type": "code",
   "execution_count": null,
   "id": "872488a3",
   "metadata": {},
   "outputs": [],
   "source": [
    "# peak calling\n",
    "determinePeaks $BAMFiles tssLUZ100 \"5\""
   ]
  },
  {
   "cell_type": "code",
   "execution_count": 20,
   "id": "1645a29f",
   "metadata": {
    "scrolled": true
   },
   "outputs": [
    {
     "name": "stdout",
     "output_type": "stream",
     "text": [
      "Loading required package: dplyr\n",
      "\n",
      "Attaching package: ‘dplyr’\n",
      "\n",
      "The following objects are masked from ‘package:stats’:\n",
      "\n",
      "    filter, lag\n",
      "\n",
      "The following objects are masked from ‘package:base’:\n",
      "\n",
      "    intersect, setdiff, setequal, union\n",
      "\n",
      "\u001b[?25h\u001b[?25h\u001b[?25h\u001b[?25h\u001b[?25h\u001b[?25h\u001b[?25hError in read.table(fileName) : no lines available in input\n",
      "Calls: cluster_peaks -> read.table\n",
      "Execution halted\n",
      "\u001b[?25h"
     ]
    },
    {
     "ename": "",
     "evalue": "1",
     "output_type": "error",
     "traceback": []
    }
   ],
   "source": [
    "# clustering using R\n",
    "chmod +x peak_clustering.r\n",
    "./peak_clustering.r \"tssLUZ100\" 10"
   ]
  },
  {
   "cell_type": "markdown",
   "id": "c528c257",
   "metadata": {},
   "source": [
    "# TTS detection and clustering"
   ]
  },
  {
   "cell_type": "code",
   "execution_count": null,
   "id": "f6b4fd1c",
   "metadata": {},
   "outputs": [],
   "source": [
    "determinePeaks $BAMFiles ttsLUZ100 \"3\"\n",
    "# clustering using R\n",
    "chmod +x peak_clustering.r\n",
    "./peak_clustering.r \"ttsLUZ100\" 10"
   ]
  },
  {
   "cell_type": "code",
   "execution_count": null,
   "id": "357b5ff3",
   "metadata": {},
   "outputs": [],
   "source": []
  }
 ],
 "metadata": {
  "kernelspec": {
   "display_name": "Bash",
   "language": "bash",
   "name": "bash"
  },
  "language_info": {
   "codemirror_mode": "shell",
   "file_extension": ".sh",
   "mimetype": "text/x-sh",
   "name": "bash"
  }
 },
 "nbformat": 4,
 "nbformat_minor": 5
}
