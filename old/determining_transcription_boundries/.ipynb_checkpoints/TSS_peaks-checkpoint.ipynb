{
 "cells": [
  {
   "cell_type": "code",
   "execution_count": null,
   "id": "c579f3a5",
   "metadata": {},
   "outputs": [],
   "source": []
  },
  {
   "cell_type": "code",
   "execution_count": 1,
   "id": "be90f6b2",
   "metadata": {},
   "outputs": [],
   "source": [
    "getEnrichmentRatios(){\n",
    "    enriched=$1\n",
    "    control=$2\n",
    "    e=$3\n",
    "    \n",
    "    ePeaks=$(awk -F ',' '{print $14}' $enriched| awk 'NR>1')\n",
    "    cPeaks=$(awk -F ',' '{print $14}' $control| awk 'NR>1')\n",
    "    commonPeaks=$(grep -Fx -f <(echo \"$ePeaks\") <(echo \"$cPeaks\"))\n",
    "    AllPeaks=$(paste -d ' ' <(echo \"$commonPeaks\") <(echo \"$commonPeaks\"))\n",
    "    remainingPeaks=$(grep -Fxv -f <(echo \"$commonPeaks\") <(echo \"$cPeaks\"))\n",
    "    for i in $(seq 1 $e)\n",
    "    do\n",
    "        cPeaksPlus=$(awk -v e=\"$i\" -F ',' '{print $1+e}' <(echo \"$remainingPeaks\"))\n",
    "        commonPeaksPlus=$(grep -Fx -f <(echo \"$ePeaks\") <(echo \"$cPeaksPlus\"))\n",
    "        if [[ -n $commonPeaksPlus ]]\n",
    "        then\n",
    "            originalPlus=$(awk -v e=$i -F ',' '{print $1-e}' <(echo \"$commonPeaksPlus\"))\n",
    "            #echo \"$originalPlus\"\n",
    "            remainingPeaks=$(grep -Fxv -f <(echo \"$originalPlus\") <(echo \"$remainingPeaks\"))\n",
    "            AllPeaksPlus=$(paste -d ' ' <(echo \"$originalPlus\") <(echo \"$commonPeaksPlus\"))\n",
    "            AllPeaks=$(cat <(echo \"$AllPeaks\") <(echo \"$AllPeaksPlus\"))\n",
    "        fi\n",
    "        \n",
    "        cPeaksMinus=$(awk -v e=\"$i\" -F ',' '{print $1-e}' <(echo \"$remainingPeaks\"))\n",
    "        commonPeaksMinus=$(grep -Fx -f <(echo \"$ePeaks\") <(echo \"$cPeaksMinus\"))\n",
    "        if [[ -n $commonPeaksMinus ]]\n",
    "        then\n",
    "            originalMinus=$(awk -v e=$i -F ',' '{print $1+e}' <(echo \"$commonPeaksMinus\"))\n",
    "            remainingPeaks=$(grep -Fxv -f <(echo \"$originalMinus\") <(echo \"$remainingPeaks\"))\n",
    "            AllPeaksMinus=$(paste -d ' ' <(echo \"$originalMinus\") <(echo \"$commonPeaksMinus\"))\n",
    "            AllPeaks=$(cat <(echo \"$AllPeaks\") <(echo \"$AllPeaksMinus\"))\n",
    "        fi\n",
    "    done\n",
    "    #echo \"$remainingPeaks\"\n",
    "    commonEnriched=$(awk '{ print $2 }' <(echo \"$AllPeaks\") |\\\n",
    "    xargs -I {} awk -F \",\" '$14 == {} {print $1, $2, $3, $14, $5, $17, $18}' $enriched)\n",
    "    commonControl=$(awk '{ print $1 }' <(echo \"$AllPeaks\") |\\\n",
    "    xargs -I {} awk -F \",\" '$14 == {} {print $1, $2, $3, $14, $5, $17, $18}' $control)\n",
    "    test=$(paste -d ' ' <(echo \"$commonEnriched\") <(echo \"$commonControl\"))\n",
    "    #get minimum number of peaks. a bit redundant tbh, but too lazy to change atm\n",
    "    NControlPeaks=$(echo \"$commonControl\" | wc -l)\n",
    "    NEnrichedPeaks=$(echo \"$commonEnriched\" | wc -l)\n",
    "    minNPeaks=$(( $NControlPeaks > $NEnrichedPeaks ? $NControlPeaks : $NEnrichedPeaks ))\n",
    "    \n",
    "    #check if both have any peaks\n",
    "    if [[ $minNPeaks > 1 ]]\n",
    "    then\n",
    "        #put information in one output.\n",
    "        paste -d ' ' <(echo \"$commonEnriched\") <(echo \"$commonControl\") |\\\n",
    "        awk '{print $1, $2, $3, $4, $5, $6, $7, $8, $9, $10, $11, $12, $13, $14, $7/$14}' |\\\n",
    "        sort -g -k 2,2\n",
    "    fi\n",
    "}\n",
    "csvToBedfromDirectory(){\n",
    "    inputCSVDirectory=$1\n",
    "    outputBedDirectory=$2\n",
    "    \n",
    "    \n",
    "    mkdir $outputBedDirectory\n",
    "    Threshold=1\n",
    "    for file in $inputCSVDirectory/*.csv\n",
    "    do\n",
    "        fileName=$(basename $file)\n",
    "        fileName=\"${fileName%.csv}\"\n",
    "        filteredFile=$(awk -v t=$Threshold -F \" \" '$15 > t {print }' $file)\n",
    "        awk -F ' ' '{print $1, $2, $3}' <(echo \"$filteredFile\") | uniq > $outputBedDirectory/\"$fileName\"_enriched.bed\n",
    "        awk -F ' ' '{print $8, $9, $10}' <(echo \"$filteredFile\") | uniq > $outputBedDirectory/\"$fileName\"_control.bed\n",
    "        sed -i 's/\\\"//g' $outputBedDirectory/\"$fileName\"_enriched.bed\n",
    "        sed -i 's/\\\"//g' $outputBedDirectory/\"$fileName\"_control.bed \n",
    "    done\n",
    "}"
   ]
  },
  {
   "cell_type": "code",
   "execution_count": 6,
   "id": "8845632f",
   "metadata": {},
   "outputs": [
    {
     "name": "stdout",
     "output_type": "stream",
     "text": [
      "mkdir: cannot create directory ‘common_peaks’: File exists\n"
     ]
    }
   ],
   "source": [
    "mkdir common_peaks\n",
    "e=2\n",
    "#t5 +\n",
    "getEnrichmentRatios tss/t5_enriched-LUZ7/t5_enriched-LUZ7.plus.peaks.oracle.narrowPeak.counts.clustered.csv \\\n",
    "tss/t5_control-LUZ7/t5_control-LUZ7.plus.peaks.oracle.narrowPeak.counts.clustered.csv $e > common_peaks/LUZ7.t5.plus.common_peaks.csv\n",
    "\n",
    "#t10 +\n",
    "getEnrichmentRatios tss/t10_enriched-LUZ7/t10_enriched-LUZ7.plus.peaks.oracle.narrowPeak.counts.clustered.csv \\\n",
    "tss/t10_control-LUZ7/t10_control-LUZ7.plus.peaks.oracle.narrowPeak.counts.clustered.csv $e > common_peaks/LUZ7.t10.plus.common_peaks.csv\n",
    "\n",
    "#t20 +\n",
    "getEnrichmentRatios tss/t20_enriched-LUZ7/t20_enriched-LUZ7.plus.peaks.oracle.narrowPeak.counts.clustered.csv \\\n",
    "tss/t20_control-LUZ7/t20_control-LUZ7.plus.peaks.oracle.narrowPeak.counts.clustered.csv $e > common_peaks/LUZ7.t20.plus.common_peaks.csv"
   ]
  },
  {
   "cell_type": "code",
   "execution_count": 7,
   "id": "c3fab845",
   "metadata": {},
   "outputs": [],
   "source": [
    "#t5 -\n",
    "getEnrichmentRatios tss/t5_enriched-LUZ7/t5_enriched-LUZ7.minus.peaks.oracle.narrowPeak.counts.clustered.csv \\\n",
    "tss/t5_control-LUZ7/t5_control-LUZ7.minus.peaks.oracle.narrowPeak.counts.clustered.csv $e > common_peaks/LUZ7.t5.minus.common_peaks.csv\n",
    "\n",
    "#t10 -\n",
    "getEnrichmentRatios tss/t10_enriched-LUZ7/t10_enriched-LUZ7.minus.peaks.oracle.narrowPeak.counts.clustered.csv \\\n",
    "tss/t10_control-LUZ7/t10_control-LUZ7.minus.peaks.oracle.narrowPeak.counts.clustered.csv $e > common_peaks/LUZ7.t10.minus.common_peaks.csv\n",
    "\n",
    "#t20 -\n",
    "getEnrichmentRatios tss/t20_enriched-LUZ7/t20_enriched-LUZ7.minus.peaks.oracle.narrowPeak.counts.clustered.csv \\\n",
    "tss/t20_control-LUZ7/t20_control-LUZ7.minus.peaks.oracle.narrowPeak.counts.clustered.csv $e > common_peaks/LUZ7.t20.minus.common_peaks.csv"
   ]
  },
  {
   "cell_type": "code",
   "execution_count": 17,
   "id": "cec06708",
   "metadata": {},
   "outputs": [
    {
     "name": "stdout",
     "output_type": "stream",
     "text": [
      "mkdir: cannot create directory ‘common_peaks_LUZ100’: File exists\n"
     ]
    }
   ],
   "source": [
    "mkdir common_peaks_LUZ100\n",
    "e=2\n",
    "\n",
    "#LUZ100 +\n",
    "getEnrichmentRatios tssLUZ100/infectedEnriched-LUZ100_full-genome/infectedEnriched-LUZ100_full-genome.plus.peaks.oracle.narrowPeak.counts.clustered.csv \\\n",
    "tssLUZ100/infectedControl-LUZ100_full-genome/infectedControl-LUZ100_full-genome.plus.peaks.oracle.narrowPeak.counts.clustered.csv $e > common_peaks_LUZ100/LUZ100.plus.common_peaks.csv\n",
    "\n",
    "#LUZ100 -\n",
    "getEnrichmentRatios tssLUZ100/infectedEnriched-LUZ100_full-genome/infectedEnriched-LUZ100_full-genome.minus.peaks.oracle.narrowPeak.counts.clustered.csv \\\n",
    "tssLUZ100/infectedControl-LUZ100_full-genome/infectedControl-LUZ100_full-genome.minus.peaks.oracle.narrowPeak.counts.clustered.csv $e > common_peaks_LUZ100/LUZ100.minus.common_peaks.csv"
   ]
  },
  {
   "cell_type": "code",
   "execution_count": 8,
   "id": "f10f2762",
   "metadata": {},
   "outputs": [
    {
     "name": "stdout",
     "output_type": "stream",
     "text": [
      "mkdir: cannot create directory ‘peaks_bed’: File exists\n"
     ]
    }
   ],
   "source": [
    "#convert to bed files to view in IGV\n",
    "mkdir peaks_bed\n",
    "Threshold=1\n",
    "for file in common_peaks/*\n",
    "do\n",
    "    fileName=$(basename $file)\n",
    "    fileName=\"${fileName%.csv}\"\n",
    "    filteredFile=$(awk -v t=$Threshold -F \" \" '$15 > t {print }' $file)\n",
    "    awk -F ' ' '{print $1, $2, $3}' <(echo \"$filteredFile\") | uniq > peaks_bed/\"$fileName\"_enriched.bed\n",
    "    awk -F ' ' '{print $8, $9, $10}' <(echo \"$filteredFile\") | uniq > peaks_bed/\"$fileName\"_control.bed\n",
    "    sed -i 's/\\\"//g' peaks_bed/\"$fileName\"_enriched.bed\n",
    "    sed -i 's/\\\"//g' peaks_bed/\"$fileName\"_control.bed \n",
    "done"
   ]
  },
  {
   "cell_type": "code",
   "execution_count": null,
   "id": "86dba849",
   "metadata": {},
   "outputs": [],
   "source": []
  },
  {
   "cell_type": "code",
   "execution_count": 2,
   "id": "72ae224a",
   "metadata": {},
   "outputs": [
    {
     "name": "stdout",
     "output_type": "stream",
     "text": [
      "\"NC_013691.1\" 4679 4696 4696 \"-\" 910 1758.88575553807 \"NC_013691.1\" 4234 4696 4695 \"-\" 16 389.958566902267 4.51044\n",
      "\"NC_013691.1\" 12473 12477 12476 \"-\" 193 373.03840749324 \"NC_013691.1\" 12475 12477 12477 \"-\" 13 316.841335608092 1.17737\n",
      "\"NC_013691.1\" 27890 27892 27892 \"-\" 987 1907.71455023745 \"NC_013691.1\" 27890 27892 27892 \"-\" 76 1852.30319278577 1.02991\n",
      "\"NC_013691.1\" 28089 28117 28117 \"-\" 69 133.366062782557 \"NC_013691.1\" 28103 28117 28115 \"-\" 30 731.17231294175 0.1824\n",
      "\"NC_013691.1\" 28642 28666 28655 \"-\" 15 28.9926223440342 \"NC_013691.1\" 28653 28655 28655 \"-\" 20 487.448208627833 0.0594784\n",
      "\"NC_013691.1\" 29314 29319 29316 \"-\" 34 65.7166106464775 \"NC_013691.1\" 29314 29324 29317 \"-\" 15 365.586156470875 0.179757\n",
      "\"NC_013691.1\" 29685 29688 29687 \"-\" 11942 23081.9930688304 \"NC_013691.1\" 29684 29688 29687 \"-\" 28 682.427492078967 33.8234\n",
      "\"NC_013691.1\" 30677 30684 30681 \"-\" 75 144.963111720171 \"NC_013691.1\" 30656 30687 30681 \"-\" 111 2705.33755788447 0.0535841\n",
      "\"NC_013691.1\" 30737 30747 30739 \"-\" 76 146.895953209773 \"NC_013691.1\" 30708 30739 30739 \"-\" 49 1194.24811113819 0.123003\n",
      "\"NC_013691.1\" 32777 32791 32788 \"-\" 26 50.2538787296593 \"NC_013691.1\" 32751 32794 32788 \"-\" 11 268.096514745308 0.187447\n",
      "\"NC_013691.1\" 32806 32809 32809 \"-\" 24 46.3881957504547 \"NC_013691.1\" 32796 32809 32809 \"-\" 17 414.330977333658 0.111959\n",
      "\"NC_013691.1\" 33682 33717 33717 \"-\" 573 1107.51817354211 \"NC_013691.1\" 33715 33717 33717 \"-\" 77 1876.67560321716 0.590149\n",
      "\"NC_013691.1\" 36963 36971 36971 \"-\" 410 792.465010736934 \"NC_013691.1\" 36968 36971 36971 \"-\" 15 365.586156470875 2.16766\n",
      "\"NC_013691.1\" 37202 37237 37237 \"-\" 92 177.82141704341 \"NC_013691.1\" 37093 37245 37238 \"-\" 15 365.586156470875 0.486401\n",
      "\"NC_013691.1\" 41104 41119 41117 \"-\" 500 966.42074480114 \"NC_013691.1\" 41114 41120 41117 \"-\" 33 804.289544235925 1.20158\n",
      "\"NC_013691.1\" 48478 48497 48483 \"-\" 24 46.3881957504547 \"NC_013691.1\" 48466 48485 48483 \"-\" 18 438.70338776505 0.105739\n",
      "\"NC_013691.1\" 48661 48699 48690 \"-\" 18 34.791146812841 \"NC_013691.1\" 48686 48693 48690 \"-\" 24 584.9378503534 0.0594784\n",
      "\"NC_013691.1\" 49668 49680 49674 \"-\" 97 187.485624491421 \"NC_013691.1\" 49658 49677 49674 \"-\" 43 1048.01364854984 0.178896\n",
      "\"NC_013691.1\" 50452 50468 50462 \"-\" 55 106.306281928125 \"NC_013691.1\" 50458 50465 50460 \"-\" 27 658.055081647575 0.161546\n",
      "\"NC_013691.1\" 51362 51380 51364 \"-\" 23 44.4553542608524 \"NC_013691.1\" 51361 51372 51364 \"-\" 79 1925.42042407994 0.0230886\n",
      "\"NC_013691.1\" 52060 52091 52090 \"-\" 17 32.8583053232387 \"NC_013691.1\" 52088 52090 52090 \"-\" 11 268.096514745308 0.122561\n",
      "\"NC_013691.1\" 52770 52784 52782 \"-\" 32 61.8509276672729 \"NC_013691.1\" 52766 52792 52782 \"-\" 19 463.075798196442 0.133565\n",
      "\"NC_013691.1\" 52908 52926 52915 \"-\" 15 28.9926223440342 \"NC_013691.1\" 52906 52928 52914 \"-\" 59 1437.97221545211 0.0201622\n",
      "\"NC_013691.1\" 53210 53235 53232 \"-\" 243 469.680481973354 \"NC_013691.1\" 53218 53235 53232 \"-\" 19 463.075798196442 1.01426\n",
      "\"NC_013691.1\" 53438 53446 53444 \"-\" 2334 4511.25203673172 \"NC_013691.1\" 53442 53452 53446 \"-\" 42 1023.64123811845 4.40706\n",
      "\"NC_013691.1\" 53582 53599 53596 \"-\" 39 75.3808180944889 \"NC_013691.1\" 53579 53601 53596 \"-\" 16 389.958566902267 0.193305\n",
      "\"NC_013691.1\" 53901 53905 53905 \"-\" 20 38.6568297920456 \"NC_013691.1\" 53901 53905 53903 \"-\" 29 706.799902510358 0.0546927\n",
      "\"NC_013691.1\" 54026 54033 54029 \"-\" 2602 5029.25355594513 \"NC_013691.1\" 54027 54034 54031 \"-\" 37 901.779185961492 5.57703\n",
      "\"NC_013691.1\" 54044 54053 54053 \"-\" 19441 37576.3713993579 \"NC_013691.1\" 54036 54053 54053 \"-\" 92 2242.26175968803 16.7582\n",
      "\"NC_013691.1\" 54342 54355 54350 \"-\" 83 160.425843636989 \"NC_013691.1\" 54348 54351 54351 \"-\" 6 146.23446258835 1.09705\n",
      "\"NC_013691.1\" 54370 54428 54407 \"-\" 156 301.523272377956 \"NC_013691.1\" 54405 54410 54407 \"-\" 17 414.330977333658 0.727735\n",
      "\"NC_013691.1\" 54988 54995 54994 \"-\" 166 320.851687273978 \"NC_013691.1\" 54992 54996 54996 \"-\" 17 414.330977333658 0.774385\n",
      "\"NC_013691.1\" 55794 55814 55811 \"-\" 334 645.569057527161 \"NC_013691.1\" 55784 55814 55811 \"-\" 16 389.958566902267 1.65548\n",
      "\"NC_013691.1\" 56127 56132 56132 \"-\" 1195 2309.74558007472 \"NC_013691.1\" 56091 56131 56131 \"-\" 12 292.4689251767 7.89741\n",
      "\"NC_013691.1\" 56256 56262 56260 \"-\" 137 264.799284075512 \"NC_013691.1\" 56233 56264 56260 \"-\" 9 219.351693882525 1.20719\n",
      "\"NC_013691.1\" 57302 57307 57305 \"-\" 437 844.651730956196 \"NC_013691.1\" 57303 57309 57305 \"-\" 38 926.151596392883 0.912002\n",
      "\"NC_013691.1\" 58438 58457 58440 \"-\" 49 94.7092329905117 \"NC_013691.1\" 58438 58450 58440 \"-\" 65 1584.20667804046 0.0597834\n",
      "\"NC_013691.1\" 58459 58466 58465 \"-\" 7 13.529890427216 \"NC_013691.1\" 58462 58466 58466 \"-\" 7 170.606873019742 0.0793045\n",
      "\"NC_013691.1\" 58982 58990 58988 \"-\" 50 96.642074480114 \"NC_013691.1\" 58986 58989 58988 \"-\" 47 1145.50329027541 0.0843665\n",
      "\"NC_013691.1\" 59126 59148 59147 \"-\" 67 129.500379803353 \"NC_013691.1\" 59141 59157 59148 \"-\" 24 584.9378503534 0.221392\n",
      "\"NC_013691.1\" 60017 60030 60031 \"-\" 6 11.5970489376137 \"NC_013691.1\" 60020 60036 60031 \"-\" 17 414.330977333658 0.0279898\n",
      "\"NC_013691.1\" 61253 61261 61260 \"-\" 15404 29773.4903058335 \"NC_013691.1\" 61258 61261 61261 \"-\" 70 1706.06873019742 17.4515\n",
      "\"NC_013691.1\" 61756 61766 61762 \"-\" 151 291.859064929944 \"NC_013691.1\" 61758 61764 61762 \"-\" 14 341.213746039483 0.855356\n",
      "\"NC_013691.1\" 61769 61778 61771 \"-\" 30 57.9852446880684 \"NC_013691.1\" 61769 61774 61771 \"-\" 12 292.4689251767 0.198261\n",
      "\"NC_013691.1\" 61782 61784 61784 \"-\" 176 340.180102170001 \"NC_013691.1\" 61781 61796 61784 \"-\" 18 438.70338776505 0.775422\n",
      "\"NC_013691.1\" 61792 61819 61804 \"-\" 42 81.1793425632957 \"NC_013691.1\" 61802 61806 61806 \"-\" 81 1974.16524494272 0.0411208\n",
      "\"NC_013691.1\" 62205 62224 62211 \"-\" 186 359.508517066024 \"NC_013691.1\" 62204 62213 62211 \"-\" 33 804.289544235925 0.446989\n",
      "\"NC_013691.1\" 62286 62291 62291 \"-\" 107 206.814039387444 \"NC_013691.1\" 62288 62294 62291 \"-\" 21 511.820619059225 0.404075\n",
      "\"NC_013691.1\" 62458 62471 62466 \"-\" 159 307.321796846762 \"NC_013691.1\" 62428 62472 62466 \"-\" 43 1048.01364854984 0.293242\n",
      "\"NC_013691.1\" 62474 62482 62476 \"-\" 27 52.1867202192615 \"NC_013691.1\" 62475 62494 62477 \"-\" 21 511.820619059225 0.101963\n",
      "\"NC_013691.1\" 62495 62500 62500 \"-\" 4051 7829.94087437883 \"NC_013691.1\" 62497 62500 62500 \"-\" 56 1364.85498415793 5.73683\n",
      "\"NC_013691.1\" 62511 62516 62515 \"-\" 36 69.582293625682 \"NC_013691.1\" 62503 62522 62516 \"-\" 45 1096.75846941262 0.0634436\n",
      "\"NC_013691.1\" 62815 62818 62818 \"-\" 11056 21369.4955090428 \"NC_013691.1\" 62815 62818 62818 \"-\" 29 706.799902510358 30.2342\n",
      "\"NC_013691.1\" 63819 63822 63822 \"-\" 209 403.963871326876 \"NC_013691.1\" 63768 63823 63822 \"-\" 20 487.448208627833 0.828732\n",
      "\"NC_013691.1\" 63894 63915 63906 \"-\" 167 322.784528763581 \"NC_013691.1\" 63881 63914 63906 \"-\" 33 804.289544235925 0.401329\n",
      "\"NC_013691.1\" 65026 65044 65044 \"-\" 7953 15371.8883668069 \"NC_013691.1\" 65040 65044 65044 \"-\" 13 316.841335608092 48.516\n",
      "\"NC_013691.1\" 65562 65573 65571 \"-\" 270 521.867202192615 \"NC_013691.1\" 65561 65588 65573 \"-\" 33 804.289544235925 0.648855\n",
      "\"NC_013691.1\" 65621 65627 65624 \"-\" 90 173.955734064205 \"NC_013691.1\" 65603 65624 65624 \"-\" 41 999.268827687058 0.174083\n",
      "\"NC_013691.1\" 65666 65671 65669 \"-\" 29985 57956.2520657243 \"NC_013691.1\" 65666 65669 65669 \"-\" 537 13087.9844016573 4.4282\n",
      "\"NC_013691.1\" 65850 65854 65854 \"-\" 17 32.8583053232387 \"NC_013691.1\" 65852 65854 65854 \"-\" 23 560.565439922008 0.0586164\n",
      "\"NC_013691.1\" 66340 66345 66343 \"-\" 99 191.351307470626 \"NC_013691.1\" 66340 66346 66344 \"-\" 41 999.268827687058 0.191491\n",
      "\"NC_013691.1\" 68653 68660 68655 \"-\" 9285 17946.4332309572 \"NC_013691.1\" 68646 68655 68655 \"-\" 35 853.034365098708 21.0383\n"
     ]
    }
   ],
   "source": [
    "e=2\n",
    "getEnrichmentRatios tss/t20_enriched-LUZ7/t20_enriched-LUZ7.minus.peaks.oracle.narrowPeak.counts.clustered.csv \\\n",
    "tss/t20_control-LUZ7/t20_control-LUZ7.minus.peaks.oracle.narrowPeak.counts.clustered.csv $e"
   ]
  },
  {
   "cell_type": "code",
   "execution_count": 18,
   "id": "fee3e8f0",
   "metadata": {},
   "outputs": [
    {
     "name": "stdout",
     "output_type": "stream",
     "text": [
      "mkdir: cannot create directory ‘peaks_bed_LUZ100’: File exists\n"
     ]
    }
   ],
   "source": [
    "csvToBedfromDirectory \"common_peaks_LUZ100\" \"peaks_bed_LUZ100\""
   ]
  },
  {
   "cell_type": "code",
   "execution_count": 12,
   "id": "e7d4ab97",
   "metadata": {},
   "outputs": [
    {
     "name": "stdout",
     "output_type": "stream",
     "text": [
      "mkdir: cannot create directory ‘common_peaks_LUZ19’: File exists\n"
     ]
    }
   ],
   "source": [
    "mkdir common_peaks_LUZ19\n",
    "\n",
    "e=2\n",
    "\n",
    "#LUZ19 +\n",
    "getEnrichmentRatios tssLUZ19/LUZ19.enriched.passed-LUZ19/LUZ19.enriched.passed-LUZ19.plus.peaks.oracle.narrowPeak.counts.clustered.csv \\\n",
    "tssLUZ19/LUZ19.control.passed-LUZ19/LUZ19.control.passed-LUZ19.plus.peaks.oracle.narrowPeak.counts.clustered.csv $e > common_peaks_LUZ19/LUZ19.plus.common_peaks.csv\n",
    "\n",
    "#LUZ19 -\n",
    "getEnrichmentRatios tssLUZ19/LUZ19.enriched.passed-LUZ19/LUZ19.enriched.passed-LUZ19.minus.peaks.oracle.narrowPeak.counts.clustered.csv \\\n",
    "tssLUZ19/LUZ19.control.passed-LUZ19/LUZ19.control.passed-LUZ19.minus.peaks.oracle.narrowPeak.counts.clustered.csv $e > common_peaks_LUZ19/LUZ19.minus.common_peaks.csv"
   ]
  },
  {
   "cell_type": "code",
   "execution_count": 13,
   "id": "47668033",
   "metadata": {},
   "outputs": [
    {
     "name": "stdout",
     "output_type": "stream",
     "text": [
      "mkdir: cannot create directory ‘peaks_bed_LUZ19’: File exists\n"
     ]
    }
   ],
   "source": [
    "csvToBedfromDirectory \"common_peaks_LUZ19\" \"peaks_bed_LUZ19\""
   ]
  },
  {
   "cell_type": "code",
   "execution_count": 2,
   "id": "143e7640",
   "metadata": {},
   "outputs": [],
   "source": [
    "mkdir common_peaks_14-1\n",
    "\n",
    "e=2\n",
    "\n",
    "#14-1 +\n",
    "getEnrichmentRatios tss14-1/14-1.enriched.passed-14-1/14-1.enriched.passed-14-1.plus.peaks.oracle.narrowPeak.counts.clustered.csv \\\n",
    "tss14-1/14-1.control.passed-14-1/14-1.control.passed-14-1.plus.peaks.oracle.narrowPeak.counts.clustered.csv $e > common_peaks_14-1/14-1.plus.common_peaks.csv\n",
    "\n",
    "#14-1 -\n",
    "getEnrichmentRatios tss14-1/14-1.enriched.passed-14-1/14-1.enriched.passed-14-1.minus.peaks.oracle.narrowPeak.counts.clustered.csv \\\n",
    "tss14-1/14-1.control.passed-14-1/14-1.control.passed-14-1.minus.peaks.oracle.narrowPeak.counts.clustered.csv $e > common_peaks_14-1/14-1.minus.common_peaks.csv"
   ]
  },
  {
   "cell_type": "code",
   "execution_count": 3,
   "id": "de64d9f2",
   "metadata": {},
   "outputs": [],
   "source": [
    "csvToBedfromDirectory \"common_peaks_14-1\" \"peaks_bed_14-1\""
   ]
  },
  {
   "cell_type": "code",
   "execution_count": null,
   "id": "a87d3588",
   "metadata": {},
   "outputs": [],
   "source": []
  },
  {
   "cell_type": "code",
   "execution_count": 4,
   "id": "4e02da4e",
   "metadata": {},
   "outputs": [
    {
     "name": "stdout",
     "output_type": "stream",
     "text": [
      "mkdir: cannot create directory ‘common_peaks_phiKZ’: File exists\n"
     ]
    }
   ],
   "source": [
    "mkdir common_peaks_phiKZ\n",
    "\n",
    "e=2\n",
    "\n",
    "#phiKZ +\n",
    "getEnrichmentRatios tssPhiKZ/phiKZ.enriched.passed-phiKZ/phiKZ.enriched.passed-phiKZ.plus.peaks.oracle.narrowPeak.counts.clustered.csv \\\n",
    "tssPhiKZ/phiKZ.control.passed-phiKZ/phiKZ.control.passed-phiKZ.plus.peaks.oracle.narrowPeak.counts.clustered.csv $e > common_peaks_phiKZ/phiKZ.plus.common_peaks.csv\n",
    "\n",
    "#phiKZ -\n",
    "getEnrichmentRatios tssPhiKZ/phiKZ.enriched.passed-phiKZ/phiKZ.enriched.passed-phiKZ.minus.peaks.oracle.narrowPeak.counts.clustered.csv \\\n",
    "tssPhiKZ/phiKZ.control.passed-phiKZ/phiKZ.control.passed-phiKZ.minus.peaks.oracle.narrowPeak.counts.clustered.csv $e > common_peaks_phiKZ/phiKZ.minus.common_peaks.csv"
   ]
  },
  {
   "cell_type": "code",
   "execution_count": 5,
   "id": "b1eea55b",
   "metadata": {},
   "outputs": [
    {
     "name": "stdout",
     "output_type": "stream",
     "text": [
      "mkdir: cannot create directory ‘peaks_bed_PhiKZ’: File exists\n"
     ]
    }
   ],
   "source": [
    "csvToBedfromDirectory \"common_peaks_PhiKZ\" \"peaks_bed_PhiKZ\""
   ]
  },
  {
   "cell_type": "code",
   "execution_count": null,
   "id": "76a695aa",
   "metadata": {},
   "outputs": [],
   "source": []
  },
  {
   "cell_type": "code",
   "execution_count": null,
   "id": "7e2f454c",
   "metadata": {},
   "outputs": [],
   "source": []
  },
  {
   "cell_type": "code",
   "execution_count": 6,
   "id": "b6a7f51e",
   "metadata": {},
   "outputs": [
    {
     "name": "stdout",
     "output_type": "stream",
     "text": [
      "mkdir: cannot create directory ‘common_peaks_PAK_P3’: File exists\n"
     ]
    }
   ],
   "source": [
    "mkdir common_peaks_PAK_P3\n",
    "\n",
    "e=2\n",
    "\n",
    "#PAK_P3 +\n",
    "getEnrichmentRatios tssPAK_P3/PAKP3.enriched.passed-PAK_P3/PAKP3.enriched.passed-PAK_P3.plus.peaks.oracle.narrowPeak.counts.clustered.csv \\\n",
    "tssPAK_P3/PAKP3.control.passed-PAK_P3/PAKP3.control.passed-PAK_P3.plus.peaks.oracle.narrowPeak.counts.clustered.csv $e > common_peaks_PAK_P3/PAK_P3.plus.common_peaks.csv\n",
    "\n",
    "#PAK_P3-\n",
    "getEnrichmentRatios tssPAK_P3/PAKP3.enriched.passed-PAK_P3/PAKP3.enriched.passed-PAK_P3.minus.peaks.oracle.narrowPeak.counts.clustered.csv \\\n",
    "tssPAK_P3/PAKP3.control.passed-PAK_P3/PAKP3.control.passed-PAK_P3.minus.peaks.oracle.narrowPeak.counts.clustered.csv $e > common_peaks_PAK_P3/PAK_P3.minus.common_peaks.csv"
   ]
  },
  {
   "cell_type": "code",
   "execution_count": 7,
   "id": "64fb2fb4",
   "metadata": {},
   "outputs": [
    {
     "name": "stdout",
     "output_type": "stream",
     "text": [
      "mkdir: cannot create directory ‘peaks_bed_PAK_P3’: File exists\n"
     ]
    }
   ],
   "source": [
    "csvToBedfromDirectory \"common_peaks_PAK_P3\" \"peaks_bed_PAK_P3\""
   ]
  },
  {
   "cell_type": "code",
   "execution_count": null,
   "id": "d751756b",
   "metadata": {},
   "outputs": [],
   "source": []
  }
 ],
 "metadata": {
  "kernelspec": {
   "display_name": "Bash",
   "language": "bash",
   "name": "bash"
  },
  "language_info": {
   "codemirror_mode": "shell",
   "file_extension": ".sh",
   "mimetype": "text/x-sh",
   "name": "bash"
  }
 },
 "nbformat": 4,
 "nbformat_minor": 5
}
